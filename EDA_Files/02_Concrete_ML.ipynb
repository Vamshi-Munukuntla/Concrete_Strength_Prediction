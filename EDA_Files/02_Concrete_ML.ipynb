{
 "cells": [
  {
   "cell_type": "code",
   "execution_count": 1,
   "id": "607fb2e3",
   "metadata": {},
   "outputs": [],
   "source": [
    "import numpy as np\n",
    "import pandas as pd\n",
    "import matplotlib.pyplot as plt\n",
    "import seaborn as sns"
   ]
  },
  {
   "cell_type": "code",
   "execution_count": 2,
   "id": "122227b1",
   "metadata": {},
   "outputs": [],
   "source": [
    "from sklearn.preprocessing import MinMaxScaler, PowerTransformer\n",
    "from sklearn.model_selection import train_test_split, GridSearchCV, cross_val_score\n",
    "from sklearn.linear_model import LinearRegression, Ridge, Lasso\n",
    "from sklearn.tree import DecisionTreeRegressor\n",
    "from sklearn.svm import SVR\n",
    "from sklearn.ensemble import RandomForestRegressor\n",
    "from xgboost import XGBRegressor\n",
    "from sklearn import metrics\n",
    "from sklearn.pipeline import Pipeline\n",
    "import warnings\n",
    "warnings.filterwarnings('ignore')"
   ]
  },
  {
   "cell_type": "code",
   "execution_count": 3,
   "id": "13f24eaf",
   "metadata": {},
   "outputs": [],
   "source": [
    "from sklearn import set_config\n",
    "set_config(display='diagram')"
   ]
  },
  {
   "cell_type": "code",
   "execution_count": 1,
   "id": "deaef199",
   "metadata": {},
   "outputs": [
    {
     "data": {
      "application/javascript": [
       "\n",
       "        if (window._pyforest_update_imports_cell) { window._pyforest_update_imports_cell('import pandas as pd'); }\n",
       "    "
      ],
      "text/plain": [
       "<IPython.core.display.Javascript object>"
      ]
     },
     "metadata": {},
     "output_type": "display_data"
    },
    {
     "data": {
      "text/html": [
       "<div>\n",
       "<style scoped>\n",
       "    .dataframe tbody tr th:only-of-type {\n",
       "        vertical-align: middle;\n",
       "    }\n",
       "\n",
       "    .dataframe tbody tr th {\n",
       "        vertical-align: top;\n",
       "    }\n",
       "\n",
       "    .dataframe thead th {\n",
       "        text-align: right;\n",
       "    }\n",
       "</style>\n",
       "<table border=\"1\" class=\"dataframe\">\n",
       "  <thead>\n",
       "    <tr style=\"text-align: right;\">\n",
       "      <th></th>\n",
       "      <th>Cement</th>\n",
       "      <th>Furnace_Slag</th>\n",
       "      <th>Fly_Ash</th>\n",
       "      <th>Water</th>\n",
       "      <th>Superplasticizer</th>\n",
       "      <th>Coarse_Aggregate</th>\n",
       "      <th>Fine_Aggregate</th>\n",
       "      <th>Age</th>\n",
       "      <th>Compressive_Strength</th>\n",
       "    </tr>\n",
       "  </thead>\n",
       "  <tbody>\n",
       "    <tr>\n",
       "      <th>0</th>\n",
       "      <td>540.0</td>\n",
       "      <td>0.0</td>\n",
       "      <td>0.0</td>\n",
       "      <td>162.0</td>\n",
       "      <td>2.5</td>\n",
       "      <td>1040.0</td>\n",
       "      <td>676.0</td>\n",
       "      <td>28.0</td>\n",
       "      <td>79.99</td>\n",
       "    </tr>\n",
       "    <tr>\n",
       "      <th>1</th>\n",
       "      <td>540.0</td>\n",
       "      <td>0.0</td>\n",
       "      <td>0.0</td>\n",
       "      <td>162.0</td>\n",
       "      <td>2.5</td>\n",
       "      <td>1055.0</td>\n",
       "      <td>676.0</td>\n",
       "      <td>28.0</td>\n",
       "      <td>61.89</td>\n",
       "    </tr>\n",
       "    <tr>\n",
       "      <th>2</th>\n",
       "      <td>332.5</td>\n",
       "      <td>142.5</td>\n",
       "      <td>0.0</td>\n",
       "      <td>228.0</td>\n",
       "      <td>0.0</td>\n",
       "      <td>932.0</td>\n",
       "      <td>594.0</td>\n",
       "      <td>120.0</td>\n",
       "      <td>40.27</td>\n",
       "    </tr>\n",
       "    <tr>\n",
       "      <th>3</th>\n",
       "      <td>332.5</td>\n",
       "      <td>142.5</td>\n",
       "      <td>0.0</td>\n",
       "      <td>228.0</td>\n",
       "      <td>0.0</td>\n",
       "      <td>932.0</td>\n",
       "      <td>594.0</td>\n",
       "      <td>120.0</td>\n",
       "      <td>41.05</td>\n",
       "    </tr>\n",
       "    <tr>\n",
       "      <th>4</th>\n",
       "      <td>198.6</td>\n",
       "      <td>132.4</td>\n",
       "      <td>0.0</td>\n",
       "      <td>192.0</td>\n",
       "      <td>0.0</td>\n",
       "      <td>978.4</td>\n",
       "      <td>825.5</td>\n",
       "      <td>120.0</td>\n",
       "      <td>44.30</td>\n",
       "    </tr>\n",
       "  </tbody>\n",
       "</table>\n",
       "</div>"
      ],
      "text/plain": [
       "   Cement  Furnace_Slag  Fly_Ash  Water  Superplasticizer  Coarse_Aggregate  \\\n",
       "0   540.0           0.0      0.0  162.0               2.5            1040.0   \n",
       "1   540.0           0.0      0.0  162.0               2.5            1055.0   \n",
       "2   332.5         142.5      0.0  228.0               0.0             932.0   \n",
       "3   332.5         142.5      0.0  228.0               0.0             932.0   \n",
       "4   198.6         132.4      0.0  192.0               0.0             978.4   \n",
       "\n",
       "   Fine_Aggregate    Age  Compressive_Strength  \n",
       "0           676.0   28.0                 79.99  \n",
       "1           676.0   28.0                 61.89  \n",
       "2           594.0  120.0                 40.27  \n",
       "3           594.0  120.0                 41.05  \n",
       "4           825.5  120.0                 44.30  "
      ]
     },
     "execution_count": 1,
     "metadata": {},
     "output_type": "execute_result"
    }
   ],
   "source": [
    "data = pd.read_csv(\"Data/Concrete_without_Outliers.csv\")\n",
    "data.head()"
   ]
  },
  {
   "cell_type": "code",
   "execution_count": 5,
   "id": "f4564b99",
   "metadata": {},
   "outputs": [
    {
     "name": "stdout",
     "output_type": "stream",
     "text": [
      "X_train shape: (703, 8)\n",
      "X_test shape: (302, 8)\n",
      "y_train shape: (703,)\n",
      "y_test shape: (302,)\n"
     ]
    }
   ],
   "source": [
    "target  = 'Compressive_Strength'\n",
    "X = data.drop(labels=[target], axis=1)\n",
    "y = data[target]\n",
    "\n",
    "X_train, X_test, y_train, y_test = train_test_split(\n",
    "    X, y, \n",
    "    test_size=0.3, \n",
    "    random_state=123\n",
    ")\n",
    "\n",
    "print(\"X_train shape:\", X_train.shape)\n",
    "print(\"X_test shape:\", X_test.shape)\n",
    "print(\"y_train shape:\", y_train.shape)\n",
    "print(\"y_test shape:\", y_test.shape)"
   ]
  },
  {
   "cell_type": "code",
   "execution_count": 6,
   "id": "df6d780f",
   "metadata": {},
   "outputs": [],
   "source": [
    "pipe = Pipeline([\n",
    "    ('yeo-johnson', PowerTransformer(method='yeo-johnson', standardize=False)),\n",
    "    ('scaler', MinMaxScaler())\n",
    "])"
   ]
  },
  {
   "cell_type": "code",
   "execution_count": 7,
   "id": "7217cbff",
   "metadata": {},
   "outputs": [
    {
     "data": {
      "text/html": [
       "<style>#sk-bc3025ce-d6da-4d1c-96e9-8f593d2f6816 {color: black;background-color: white;}#sk-bc3025ce-d6da-4d1c-96e9-8f593d2f6816 pre{padding: 0;}#sk-bc3025ce-d6da-4d1c-96e9-8f593d2f6816 div.sk-toggleable {background-color: white;}#sk-bc3025ce-d6da-4d1c-96e9-8f593d2f6816 label.sk-toggleable__label {cursor: pointer;display: block;width: 100%;margin-bottom: 0;padding: 0.3em;box-sizing: border-box;text-align: center;}#sk-bc3025ce-d6da-4d1c-96e9-8f593d2f6816 label.sk-toggleable__label-arrow:before {content: \"▸\";float: left;margin-right: 0.25em;color: #696969;}#sk-bc3025ce-d6da-4d1c-96e9-8f593d2f6816 label.sk-toggleable__label-arrow:hover:before {color: black;}#sk-bc3025ce-d6da-4d1c-96e9-8f593d2f6816 div.sk-estimator:hover label.sk-toggleable__label-arrow:before {color: black;}#sk-bc3025ce-d6da-4d1c-96e9-8f593d2f6816 div.sk-toggleable__content {max-height: 0;max-width: 0;overflow: hidden;text-align: left;background-color: #f0f8ff;}#sk-bc3025ce-d6da-4d1c-96e9-8f593d2f6816 div.sk-toggleable__content pre {margin: 0.2em;color: black;border-radius: 0.25em;background-color: #f0f8ff;}#sk-bc3025ce-d6da-4d1c-96e9-8f593d2f6816 input.sk-toggleable__control:checked~div.sk-toggleable__content {max-height: 200px;max-width: 100%;overflow: auto;}#sk-bc3025ce-d6da-4d1c-96e9-8f593d2f6816 input.sk-toggleable__control:checked~label.sk-toggleable__label-arrow:before {content: \"▾\";}#sk-bc3025ce-d6da-4d1c-96e9-8f593d2f6816 div.sk-estimator input.sk-toggleable__control:checked~label.sk-toggleable__label {background-color: #d4ebff;}#sk-bc3025ce-d6da-4d1c-96e9-8f593d2f6816 div.sk-label input.sk-toggleable__control:checked~label.sk-toggleable__label {background-color: #d4ebff;}#sk-bc3025ce-d6da-4d1c-96e9-8f593d2f6816 input.sk-hidden--visually {border: 0;clip: rect(1px 1px 1px 1px);clip: rect(1px, 1px, 1px, 1px);height: 1px;margin: -1px;overflow: hidden;padding: 0;position: absolute;width: 1px;}#sk-bc3025ce-d6da-4d1c-96e9-8f593d2f6816 div.sk-estimator {font-family: monospace;background-color: #f0f8ff;border: 1px dotted black;border-radius: 0.25em;box-sizing: border-box;margin-bottom: 0.5em;}#sk-bc3025ce-d6da-4d1c-96e9-8f593d2f6816 div.sk-estimator:hover {background-color: #d4ebff;}#sk-bc3025ce-d6da-4d1c-96e9-8f593d2f6816 div.sk-parallel-item::after {content: \"\";width: 100%;border-bottom: 1px solid gray;flex-grow: 1;}#sk-bc3025ce-d6da-4d1c-96e9-8f593d2f6816 div.sk-label:hover label.sk-toggleable__label {background-color: #d4ebff;}#sk-bc3025ce-d6da-4d1c-96e9-8f593d2f6816 div.sk-serial::before {content: \"\";position: absolute;border-left: 1px solid gray;box-sizing: border-box;top: 2em;bottom: 0;left: 50%;}#sk-bc3025ce-d6da-4d1c-96e9-8f593d2f6816 div.sk-serial {display: flex;flex-direction: column;align-items: center;background-color: white;padding-right: 0.2em;padding-left: 0.2em;}#sk-bc3025ce-d6da-4d1c-96e9-8f593d2f6816 div.sk-item {z-index: 1;}#sk-bc3025ce-d6da-4d1c-96e9-8f593d2f6816 div.sk-parallel {display: flex;align-items: stretch;justify-content: center;background-color: white;}#sk-bc3025ce-d6da-4d1c-96e9-8f593d2f6816 div.sk-parallel::before {content: \"\";position: absolute;border-left: 1px solid gray;box-sizing: border-box;top: 2em;bottom: 0;left: 50%;}#sk-bc3025ce-d6da-4d1c-96e9-8f593d2f6816 div.sk-parallel-item {display: flex;flex-direction: column;position: relative;background-color: white;}#sk-bc3025ce-d6da-4d1c-96e9-8f593d2f6816 div.sk-parallel-item:first-child::after {align-self: flex-end;width: 50%;}#sk-bc3025ce-d6da-4d1c-96e9-8f593d2f6816 div.sk-parallel-item:last-child::after {align-self: flex-start;width: 50%;}#sk-bc3025ce-d6da-4d1c-96e9-8f593d2f6816 div.sk-parallel-item:only-child::after {width: 0;}#sk-bc3025ce-d6da-4d1c-96e9-8f593d2f6816 div.sk-dashed-wrapped {border: 1px dashed gray;margin: 0 0.4em 0.5em 0.4em;box-sizing: border-box;padding-bottom: 0.4em;background-color: white;position: relative;}#sk-bc3025ce-d6da-4d1c-96e9-8f593d2f6816 div.sk-label label {font-family: monospace;font-weight: bold;background-color: white;display: inline-block;line-height: 1.2em;}#sk-bc3025ce-d6da-4d1c-96e9-8f593d2f6816 div.sk-label-container {position: relative;z-index: 2;text-align: center;}#sk-bc3025ce-d6da-4d1c-96e9-8f593d2f6816 div.sk-container {/* jupyter's `normalize.less` sets `[hidden] { display: none; }` but bootstrap.min.css set `[hidden] { display: none !important; }` so we also need the `!important` here to be able to override the default hidden behavior on the sphinx rendered scikit-learn.org. See: https://github.com/scikit-learn/scikit-learn/issues/21755 */display: inline-block !important;position: relative;}#sk-bc3025ce-d6da-4d1c-96e9-8f593d2f6816 div.sk-text-repr-fallback {display: none;}</style><div id=\"sk-bc3025ce-d6da-4d1c-96e9-8f593d2f6816\" class=\"sk-top-container\"><div class=\"sk-text-repr-fallback\"><pre>Pipeline(steps=[(&#x27;yeo-johnson&#x27;, PowerTransformer(standardize=False)),\n",
       "                (&#x27;scaler&#x27;, MinMaxScaler())])</pre><b>Please rerun this cell to show the HTML repr or trust the notebook.</b></div><div class=\"sk-container\" hidden><div class=\"sk-item sk-dashed-wrapped\"><div class=\"sk-label-container\"><div class=\"sk-label sk-toggleable\"><input class=\"sk-toggleable__control sk-hidden--visually\" id=\"a93d9f33-9317-48d9-ae65-07ee95252630\" type=\"checkbox\" ><label for=\"a93d9f33-9317-48d9-ae65-07ee95252630\" class=\"sk-toggleable__label sk-toggleable__label-arrow\">Pipeline</label><div class=\"sk-toggleable__content\"><pre>Pipeline(steps=[(&#x27;yeo-johnson&#x27;, PowerTransformer(standardize=False)),\n",
       "                (&#x27;scaler&#x27;, MinMaxScaler())])</pre></div></div></div><div class=\"sk-serial\"><div class=\"sk-item\"><div class=\"sk-estimator sk-toggleable\"><input class=\"sk-toggleable__control sk-hidden--visually\" id=\"9ed9f554-056a-499c-88c4-617d3151bd14\" type=\"checkbox\" ><label for=\"9ed9f554-056a-499c-88c4-617d3151bd14\" class=\"sk-toggleable__label sk-toggleable__label-arrow\">PowerTransformer</label><div class=\"sk-toggleable__content\"><pre>PowerTransformer(standardize=False)</pre></div></div></div><div class=\"sk-item\"><div class=\"sk-estimator sk-toggleable\"><input class=\"sk-toggleable__control sk-hidden--visually\" id=\"f2115e2c-7554-4186-bb75-d1a3a141ceaf\" type=\"checkbox\" ><label for=\"f2115e2c-7554-4186-bb75-d1a3a141ceaf\" class=\"sk-toggleable__label sk-toggleable__label-arrow\">MinMaxScaler</label><div class=\"sk-toggleable__content\"><pre>MinMaxScaler()</pre></div></div></div></div></div></div></div>"
      ],
      "text/plain": [
       "Pipeline(steps=[('yeo-johnson', PowerTransformer(standardize=False)),\n",
       "                ('scaler', MinMaxScaler())])"
      ]
     },
     "execution_count": 7,
     "metadata": {},
     "output_type": "execute_result"
    }
   ],
   "source": [
    "pipe"
   ]
  },
  {
   "cell_type": "code",
   "execution_count": 8,
   "id": "b36689bd",
   "metadata": {},
   "outputs": [],
   "source": [
    "X_train_processed = pipe.fit_transform(X_train)\n",
    "X_test_processed = pipe.transform(X_test)"
   ]
  },
  {
   "cell_type": "markdown",
   "id": "f09490d1",
   "metadata": {},
   "source": [
    "## Linear Regression"
   ]
  },
  {
   "cell_type": "code",
   "execution_count": 9,
   "id": "7d40746e",
   "metadata": {},
   "outputs": [
    {
     "data": {
      "text/html": [
       "<style>#sk-af844c96-7e54-42bc-b734-5d134c0a5374 {color: black;background-color: white;}#sk-af844c96-7e54-42bc-b734-5d134c0a5374 pre{padding: 0;}#sk-af844c96-7e54-42bc-b734-5d134c0a5374 div.sk-toggleable {background-color: white;}#sk-af844c96-7e54-42bc-b734-5d134c0a5374 label.sk-toggleable__label {cursor: pointer;display: block;width: 100%;margin-bottom: 0;padding: 0.3em;box-sizing: border-box;text-align: center;}#sk-af844c96-7e54-42bc-b734-5d134c0a5374 label.sk-toggleable__label-arrow:before {content: \"▸\";float: left;margin-right: 0.25em;color: #696969;}#sk-af844c96-7e54-42bc-b734-5d134c0a5374 label.sk-toggleable__label-arrow:hover:before {color: black;}#sk-af844c96-7e54-42bc-b734-5d134c0a5374 div.sk-estimator:hover label.sk-toggleable__label-arrow:before {color: black;}#sk-af844c96-7e54-42bc-b734-5d134c0a5374 div.sk-toggleable__content {max-height: 0;max-width: 0;overflow: hidden;text-align: left;background-color: #f0f8ff;}#sk-af844c96-7e54-42bc-b734-5d134c0a5374 div.sk-toggleable__content pre {margin: 0.2em;color: black;border-radius: 0.25em;background-color: #f0f8ff;}#sk-af844c96-7e54-42bc-b734-5d134c0a5374 input.sk-toggleable__control:checked~div.sk-toggleable__content {max-height: 200px;max-width: 100%;overflow: auto;}#sk-af844c96-7e54-42bc-b734-5d134c0a5374 input.sk-toggleable__control:checked~label.sk-toggleable__label-arrow:before {content: \"▾\";}#sk-af844c96-7e54-42bc-b734-5d134c0a5374 div.sk-estimator input.sk-toggleable__control:checked~label.sk-toggleable__label {background-color: #d4ebff;}#sk-af844c96-7e54-42bc-b734-5d134c0a5374 div.sk-label input.sk-toggleable__control:checked~label.sk-toggleable__label {background-color: #d4ebff;}#sk-af844c96-7e54-42bc-b734-5d134c0a5374 input.sk-hidden--visually {border: 0;clip: rect(1px 1px 1px 1px);clip: rect(1px, 1px, 1px, 1px);height: 1px;margin: -1px;overflow: hidden;padding: 0;position: absolute;width: 1px;}#sk-af844c96-7e54-42bc-b734-5d134c0a5374 div.sk-estimator {font-family: monospace;background-color: #f0f8ff;border: 1px dotted black;border-radius: 0.25em;box-sizing: border-box;margin-bottom: 0.5em;}#sk-af844c96-7e54-42bc-b734-5d134c0a5374 div.sk-estimator:hover {background-color: #d4ebff;}#sk-af844c96-7e54-42bc-b734-5d134c0a5374 div.sk-parallel-item::after {content: \"\";width: 100%;border-bottom: 1px solid gray;flex-grow: 1;}#sk-af844c96-7e54-42bc-b734-5d134c0a5374 div.sk-label:hover label.sk-toggleable__label {background-color: #d4ebff;}#sk-af844c96-7e54-42bc-b734-5d134c0a5374 div.sk-serial::before {content: \"\";position: absolute;border-left: 1px solid gray;box-sizing: border-box;top: 2em;bottom: 0;left: 50%;}#sk-af844c96-7e54-42bc-b734-5d134c0a5374 div.sk-serial {display: flex;flex-direction: column;align-items: center;background-color: white;padding-right: 0.2em;padding-left: 0.2em;}#sk-af844c96-7e54-42bc-b734-5d134c0a5374 div.sk-item {z-index: 1;}#sk-af844c96-7e54-42bc-b734-5d134c0a5374 div.sk-parallel {display: flex;align-items: stretch;justify-content: center;background-color: white;}#sk-af844c96-7e54-42bc-b734-5d134c0a5374 div.sk-parallel::before {content: \"\";position: absolute;border-left: 1px solid gray;box-sizing: border-box;top: 2em;bottom: 0;left: 50%;}#sk-af844c96-7e54-42bc-b734-5d134c0a5374 div.sk-parallel-item {display: flex;flex-direction: column;position: relative;background-color: white;}#sk-af844c96-7e54-42bc-b734-5d134c0a5374 div.sk-parallel-item:first-child::after {align-self: flex-end;width: 50%;}#sk-af844c96-7e54-42bc-b734-5d134c0a5374 div.sk-parallel-item:last-child::after {align-self: flex-start;width: 50%;}#sk-af844c96-7e54-42bc-b734-5d134c0a5374 div.sk-parallel-item:only-child::after {width: 0;}#sk-af844c96-7e54-42bc-b734-5d134c0a5374 div.sk-dashed-wrapped {border: 1px dashed gray;margin: 0 0.4em 0.5em 0.4em;box-sizing: border-box;padding-bottom: 0.4em;background-color: white;position: relative;}#sk-af844c96-7e54-42bc-b734-5d134c0a5374 div.sk-label label {font-family: monospace;font-weight: bold;background-color: white;display: inline-block;line-height: 1.2em;}#sk-af844c96-7e54-42bc-b734-5d134c0a5374 div.sk-label-container {position: relative;z-index: 2;text-align: center;}#sk-af844c96-7e54-42bc-b734-5d134c0a5374 div.sk-container {/* jupyter's `normalize.less` sets `[hidden] { display: none; }` but bootstrap.min.css set `[hidden] { display: none !important; }` so we also need the `!important` here to be able to override the default hidden behavior on the sphinx rendered scikit-learn.org. See: https://github.com/scikit-learn/scikit-learn/issues/21755 */display: inline-block !important;position: relative;}#sk-af844c96-7e54-42bc-b734-5d134c0a5374 div.sk-text-repr-fallback {display: none;}</style><div id=\"sk-af844c96-7e54-42bc-b734-5d134c0a5374\" class=\"sk-top-container\"><div class=\"sk-text-repr-fallback\"><pre>LinearRegression()</pre><b>Please rerun this cell to show the HTML repr or trust the notebook.</b></div><div class=\"sk-container\" hidden><div class=\"sk-item\"><div class=\"sk-estimator sk-toggleable\"><input class=\"sk-toggleable__control sk-hidden--visually\" id=\"88c00b57-27a5-43ce-b78d-b9a87e9707c7\" type=\"checkbox\" checked><label for=\"88c00b57-27a5-43ce-b78d-b9a87e9707c7\" class=\"sk-toggleable__label sk-toggleable__label-arrow\">LinearRegression</label><div class=\"sk-toggleable__content\"><pre>LinearRegression()</pre></div></div></div></div></div>"
      ],
      "text/plain": [
       "LinearRegression()"
      ]
     },
     "execution_count": 9,
     "metadata": {},
     "output_type": "execute_result"
    }
   ],
   "source": [
    "lr = LinearRegression()\n",
    "lr.fit(X_train_processed, y_train)"
   ]
  },
  {
   "cell_type": "code",
   "execution_count": 10,
   "id": "5b5513a1",
   "metadata": {},
   "outputs": [],
   "source": [
    "y_train_pred = lr.predict(X_train_processed)\n",
    "y_test_pred = lr.predict(X_test_processed)"
   ]
  },
  {
   "cell_type": "code",
   "execution_count": 11,
   "id": "d01a21f5",
   "metadata": {},
   "outputs": [],
   "source": [
    "mse_lr = metrics.mean_squared_error(y_test, y_test_pred)\n",
    "rmse_lr = np.sqrt(mse_lr)\n",
    "test_r2_score = metrics.r2_score(y_test, y_test_pred)"
   ]
  },
  {
   "cell_type": "code",
   "execution_count": 12,
   "id": "4775c343",
   "metadata": {},
   "outputs": [],
   "source": [
    "train_r2_score = metrics.r2_score(y_train, y_train_pred)\n",
    "\n",
    "r2_diff = train_r2_score - test_r2_score"
   ]
  },
  {
   "cell_type": "code",
   "execution_count": 13,
   "id": "42e7ce17",
   "metadata": {},
   "outputs": [
    {
     "name": "stdout",
     "output_type": "stream",
     "text": [
      "Mean Squared Error:  50.8049728971432\n",
      "Root MSE:  7.127760721092088\n",
      "test_R2_Score:  0.7929588471751577\n",
      "train_R2_Score:  0.8142933724704049\n",
      "Difference in R2_score for train and test:  0.021334525295247153\n"
     ]
    }
   ],
   "source": [
    "print('Mean Squared Error: ', mse_lr)\n",
    "print('Root MSE: ', rmse_lr)\n",
    "print('test_R2_Score: ', test_r2_score)\n",
    "print('train_R2_Score: ', train_r2_score)\n",
    "print('Difference in R2_score for train and test: ', r2_diff)"
   ]
  },
  {
   "cell_type": "code",
   "execution_count": 14,
   "id": "eb6d2233",
   "metadata": {},
   "outputs": [
    {
     "data": {
      "text/html": [
       "<div>\n",
       "<style scoped>\n",
       "    .dataframe tbody tr th:only-of-type {\n",
       "        vertical-align: middle;\n",
       "    }\n",
       "\n",
       "    .dataframe tbody tr th {\n",
       "        vertical-align: top;\n",
       "    }\n",
       "\n",
       "    .dataframe thead th {\n",
       "        text-align: right;\n",
       "    }\n",
       "</style>\n",
       "<table border=\"1\" class=\"dataframe\">\n",
       "  <thead>\n",
       "    <tr style=\"text-align: right;\">\n",
       "      <th></th>\n",
       "      <th>Algorithm</th>\n",
       "      <th>RMSE</th>\n",
       "      <th>train_R2</th>\n",
       "      <th>test_R2</th>\n",
       "      <th>diff_R2</th>\n",
       "    </tr>\n",
       "  </thead>\n",
       "  <tbody>\n",
       "    <tr>\n",
       "      <th>1</th>\n",
       "      <td>Linear Regression</td>\n",
       "      <td>7.127761</td>\n",
       "      <td>0.814293</td>\n",
       "      <td>0.792959</td>\n",
       "      <td>0.021335</td>\n",
       "    </tr>\n",
       "  </tbody>\n",
       "</table>\n",
       "</div>"
      ],
      "text/plain": [
       "           Algorithm      RMSE  train_R2   test_R2   diff_R2\n",
       "1  Linear Regression  7.127761  0.814293  0.792959  0.021335"
      ]
     },
     "execution_count": 14,
     "metadata": {},
     "output_type": "execute_result"
    }
   ],
   "source": [
    "results_1 = pd.DataFrame({'Algorithm':['Linear Regression'],\n",
    "                         \"RMSE\":rmse_lr,\n",
    "                         \"train_R2\":train_r2_score,\n",
    "                         \"test_R2\":test_r2_score,\n",
    "                         \"diff_R2\":r2_diff},index=[1])\n",
    "\n",
    "results = results_1[['Algorithm', 'RMSE', \"train_R2\", \"test_R2\", 'diff_R2']]\n",
    "results"
   ]
  },
  {
   "cell_type": "code",
   "execution_count": 15,
   "id": "bb4503ab",
   "metadata": {},
   "outputs": [
    {
     "data": {
      "text/html": [
       "<style>#sk-7460a4fb-0be0-488f-b0fc-a8bcc6506600 {color: black;background-color: white;}#sk-7460a4fb-0be0-488f-b0fc-a8bcc6506600 pre{padding: 0;}#sk-7460a4fb-0be0-488f-b0fc-a8bcc6506600 div.sk-toggleable {background-color: white;}#sk-7460a4fb-0be0-488f-b0fc-a8bcc6506600 label.sk-toggleable__label {cursor: pointer;display: block;width: 100%;margin-bottom: 0;padding: 0.3em;box-sizing: border-box;text-align: center;}#sk-7460a4fb-0be0-488f-b0fc-a8bcc6506600 label.sk-toggleable__label-arrow:before {content: \"▸\";float: left;margin-right: 0.25em;color: #696969;}#sk-7460a4fb-0be0-488f-b0fc-a8bcc6506600 label.sk-toggleable__label-arrow:hover:before {color: black;}#sk-7460a4fb-0be0-488f-b0fc-a8bcc6506600 div.sk-estimator:hover label.sk-toggleable__label-arrow:before {color: black;}#sk-7460a4fb-0be0-488f-b0fc-a8bcc6506600 div.sk-toggleable__content {max-height: 0;max-width: 0;overflow: hidden;text-align: left;background-color: #f0f8ff;}#sk-7460a4fb-0be0-488f-b0fc-a8bcc6506600 div.sk-toggleable__content pre {margin: 0.2em;color: black;border-radius: 0.25em;background-color: #f0f8ff;}#sk-7460a4fb-0be0-488f-b0fc-a8bcc6506600 input.sk-toggleable__control:checked~div.sk-toggleable__content {max-height: 200px;max-width: 100%;overflow: auto;}#sk-7460a4fb-0be0-488f-b0fc-a8bcc6506600 input.sk-toggleable__control:checked~label.sk-toggleable__label-arrow:before {content: \"▾\";}#sk-7460a4fb-0be0-488f-b0fc-a8bcc6506600 div.sk-estimator input.sk-toggleable__control:checked~label.sk-toggleable__label {background-color: #d4ebff;}#sk-7460a4fb-0be0-488f-b0fc-a8bcc6506600 div.sk-label input.sk-toggleable__control:checked~label.sk-toggleable__label {background-color: #d4ebff;}#sk-7460a4fb-0be0-488f-b0fc-a8bcc6506600 input.sk-hidden--visually {border: 0;clip: rect(1px 1px 1px 1px);clip: rect(1px, 1px, 1px, 1px);height: 1px;margin: -1px;overflow: hidden;padding: 0;position: absolute;width: 1px;}#sk-7460a4fb-0be0-488f-b0fc-a8bcc6506600 div.sk-estimator {font-family: monospace;background-color: #f0f8ff;border: 1px dotted black;border-radius: 0.25em;box-sizing: border-box;margin-bottom: 0.5em;}#sk-7460a4fb-0be0-488f-b0fc-a8bcc6506600 div.sk-estimator:hover {background-color: #d4ebff;}#sk-7460a4fb-0be0-488f-b0fc-a8bcc6506600 div.sk-parallel-item::after {content: \"\";width: 100%;border-bottom: 1px solid gray;flex-grow: 1;}#sk-7460a4fb-0be0-488f-b0fc-a8bcc6506600 div.sk-label:hover label.sk-toggleable__label {background-color: #d4ebff;}#sk-7460a4fb-0be0-488f-b0fc-a8bcc6506600 div.sk-serial::before {content: \"\";position: absolute;border-left: 1px solid gray;box-sizing: border-box;top: 2em;bottom: 0;left: 50%;}#sk-7460a4fb-0be0-488f-b0fc-a8bcc6506600 div.sk-serial {display: flex;flex-direction: column;align-items: center;background-color: white;padding-right: 0.2em;padding-left: 0.2em;}#sk-7460a4fb-0be0-488f-b0fc-a8bcc6506600 div.sk-item {z-index: 1;}#sk-7460a4fb-0be0-488f-b0fc-a8bcc6506600 div.sk-parallel {display: flex;align-items: stretch;justify-content: center;background-color: white;}#sk-7460a4fb-0be0-488f-b0fc-a8bcc6506600 div.sk-parallel::before {content: \"\";position: absolute;border-left: 1px solid gray;box-sizing: border-box;top: 2em;bottom: 0;left: 50%;}#sk-7460a4fb-0be0-488f-b0fc-a8bcc6506600 div.sk-parallel-item {display: flex;flex-direction: column;position: relative;background-color: white;}#sk-7460a4fb-0be0-488f-b0fc-a8bcc6506600 div.sk-parallel-item:first-child::after {align-self: flex-end;width: 50%;}#sk-7460a4fb-0be0-488f-b0fc-a8bcc6506600 div.sk-parallel-item:last-child::after {align-self: flex-start;width: 50%;}#sk-7460a4fb-0be0-488f-b0fc-a8bcc6506600 div.sk-parallel-item:only-child::after {width: 0;}#sk-7460a4fb-0be0-488f-b0fc-a8bcc6506600 div.sk-dashed-wrapped {border: 1px dashed gray;margin: 0 0.4em 0.5em 0.4em;box-sizing: border-box;padding-bottom: 0.4em;background-color: white;position: relative;}#sk-7460a4fb-0be0-488f-b0fc-a8bcc6506600 div.sk-label label {font-family: monospace;font-weight: bold;background-color: white;display: inline-block;line-height: 1.2em;}#sk-7460a4fb-0be0-488f-b0fc-a8bcc6506600 div.sk-label-container {position: relative;z-index: 2;text-align: center;}#sk-7460a4fb-0be0-488f-b0fc-a8bcc6506600 div.sk-container {/* jupyter's `normalize.less` sets `[hidden] { display: none; }` but bootstrap.min.css set `[hidden] { display: none !important; }` so we also need the `!important` here to be able to override the default hidden behavior on the sphinx rendered scikit-learn.org. See: https://github.com/scikit-learn/scikit-learn/issues/21755 */display: inline-block !important;position: relative;}#sk-7460a4fb-0be0-488f-b0fc-a8bcc6506600 div.sk-text-repr-fallback {display: none;}</style><div id=\"sk-7460a4fb-0be0-488f-b0fc-a8bcc6506600\" class=\"sk-top-container\"><div class=\"sk-text-repr-fallback\"><pre>Ridge()</pre><b>Please rerun this cell to show the HTML repr or trust the notebook.</b></div><div class=\"sk-container\" hidden><div class=\"sk-item\"><div class=\"sk-estimator sk-toggleable\"><input class=\"sk-toggleable__control sk-hidden--visually\" id=\"68d78120-c917-4134-9901-312ae90a202b\" type=\"checkbox\" checked><label for=\"68d78120-c917-4134-9901-312ae90a202b\" class=\"sk-toggleable__label sk-toggleable__label-arrow\">Ridge</label><div class=\"sk-toggleable__content\"><pre>Ridge()</pre></div></div></div></div></div>"
      ],
      "text/plain": [
       "Ridge()"
      ]
     },
     "execution_count": 15,
     "metadata": {},
     "output_type": "execute_result"
    }
   ],
   "source": [
    "rr = Ridge()\n",
    "rr.fit(X_train_processed, y_train)"
   ]
  },
  {
   "cell_type": "code",
   "execution_count": 16,
   "id": "2861fddc",
   "metadata": {},
   "outputs": [],
   "source": [
    "y_train_pred = rr.predict(X_train_processed)\n",
    "y_test_pred = rr.predict(X_test_processed)"
   ]
  },
  {
   "cell_type": "code",
   "execution_count": 17,
   "id": "6070d767",
   "metadata": {},
   "outputs": [],
   "source": [
    "mse_rr = metrics.mean_squared_error(y_test, y_test_pred)\n",
    "rmse_rr = np.sqrt(mse_rr)\n",
    "test_r2_score = metrics.r2_score(y_test, y_test_pred)"
   ]
  },
  {
   "cell_type": "code",
   "execution_count": 18,
   "id": "4b7fae46",
   "metadata": {},
   "outputs": [],
   "source": [
    "train_r2_score = metrics.r2_score(y_train, y_train_pred)\n",
    "\n",
    "r2_diff = train_r2_score - test_r2_score"
   ]
  },
  {
   "cell_type": "code",
   "execution_count": 19,
   "id": "da9e87b0",
   "metadata": {},
   "outputs": [
    {
     "name": "stdout",
     "output_type": "stream",
     "text": [
      "Mean Squared Error:  50.89247860142639\n",
      "Root MSE:  7.133896452950967\n",
      "test_R2_Score:  0.7926022426764167\n",
      "train_R2_Score:  0.8136588109828324\n",
      "Difference in R2_score for train and test:  0.02105656830641578\n"
     ]
    }
   ],
   "source": [
    "print('Mean Squared Error: ', mse_rr)\n",
    "print('Root MSE: ', rmse_rr)\n",
    "print('test_R2_Score: ', test_r2_score)\n",
    "print('train_R2_Score: ', train_r2_score)\n",
    "print('Difference in R2_score for train and test: ', \n",
    "      train_r2_score - test_r2_score)"
   ]
  },
  {
   "cell_type": "code",
   "execution_count": 20,
   "id": "8b38abd3",
   "metadata": {},
   "outputs": [
    {
     "data": {
      "text/html": [
       "<div>\n",
       "<style scoped>\n",
       "    .dataframe tbody tr th:only-of-type {\n",
       "        vertical-align: middle;\n",
       "    }\n",
       "\n",
       "    .dataframe tbody tr th {\n",
       "        vertical-align: top;\n",
       "    }\n",
       "\n",
       "    .dataframe thead th {\n",
       "        text-align: right;\n",
       "    }\n",
       "</style>\n",
       "<table border=\"1\" class=\"dataframe\">\n",
       "  <thead>\n",
       "    <tr style=\"text-align: right;\">\n",
       "      <th></th>\n",
       "      <th>Algorithm</th>\n",
       "      <th>RMSE</th>\n",
       "      <th>train_R2</th>\n",
       "      <th>test_R2</th>\n",
       "      <th>diff_R2</th>\n",
       "    </tr>\n",
       "  </thead>\n",
       "  <tbody>\n",
       "    <tr>\n",
       "      <th>1</th>\n",
       "      <td>Linear Regression</td>\n",
       "      <td>7.127761</td>\n",
       "      <td>0.814293</td>\n",
       "      <td>0.792959</td>\n",
       "      <td>0.021335</td>\n",
       "    </tr>\n",
       "    <tr>\n",
       "      <th>2</th>\n",
       "      <td>Ridge</td>\n",
       "      <td>7.133896</td>\n",
       "      <td>0.813659</td>\n",
       "      <td>0.792602</td>\n",
       "      <td>0.021057</td>\n",
       "    </tr>\n",
       "  </tbody>\n",
       "</table>\n",
       "</div>"
      ],
      "text/plain": [
       "           Algorithm      RMSE  train_R2   test_R2   diff_R2\n",
       "1  Linear Regression  7.127761  0.814293  0.792959  0.021335\n",
       "2              Ridge  7.133896  0.813659  0.792602  0.021057"
      ]
     },
     "execution_count": 20,
     "metadata": {},
     "output_type": "execute_result"
    }
   ],
   "source": [
    "results_2 = pd.DataFrame({'Algorithm':['Ridge'],\n",
    "                         \"RMSE\":rmse_rr,\n",
    "                         \"train_R2\":train_r2_score,\n",
    "                         \"test_R2\":test_r2_score,\n",
    "                         \"diff_R2\":r2_diff}, index=[2])\n",
    "results = pd.concat([results, results_2])\n",
    "\n",
    "results = results[['Algorithm', 'RMSE', \"train_R2\", \"test_R2\", 'diff_R2']]\n",
    "results"
   ]
  },
  {
   "cell_type": "markdown",
   "id": "22526571",
   "metadata": {},
   "source": [
    "## Lasso "
   ]
  },
  {
   "cell_type": "code",
   "execution_count": 21,
   "id": "21c7d203",
   "metadata": {},
   "outputs": [],
   "source": [
    "lasso = Lasso()\n",
    "lasso.fit(X_train_processed, y_train)\n",
    "\n",
    "y_train_pred = lasso.predict(X_train_processed)\n",
    "y_test_pred = lasso.predict(X_test_processed)\n",
    "\n",
    "mse_lasso = metrics.mean_squared_error(y_test, y_test_pred)\n",
    "rmse_lasso = np.sqrt(mse_lasso)\n",
    "test_r2_score = metrics.r2_score(y_test, y_test_pred)\n",
    "\n",
    "train_r2_score = metrics.r2_score(y_train, y_train_pred)\n",
    "\n",
    "r2_diff = train_r2_score - test_r2_score"
   ]
  },
  {
   "cell_type": "code",
   "execution_count": 22,
   "id": "97d81b6a",
   "metadata": {},
   "outputs": [
    {
     "name": "stdout",
     "output_type": "stream",
     "text": [
      "Mean Squared Error:  103.45739931957878\n",
      "Root MSE:  10.171401049982189\n",
      "test_R2_Score:  0.5783889252977026\n",
      "train_R2_Score:  0.5839857196587563\n",
      "Difference in R2_score for train and test:  0.0055967943610537585\n"
     ]
    }
   ],
   "source": [
    "print('Mean Squared Error: ', mse_lasso)\n",
    "print('Root MSE: ', rmse_lasso)\n",
    "print('test_R2_Score: ', test_r2_score)\n",
    "print('train_R2_Score: ', train_r2_score)\n",
    "print('Difference in R2_score for train and test: ', \n",
    "      train_r2_score - test_r2_score)"
   ]
  },
  {
   "cell_type": "code",
   "execution_count": 23,
   "id": "bd425737",
   "metadata": {},
   "outputs": [
    {
     "data": {
      "text/html": [
       "<div>\n",
       "<style scoped>\n",
       "    .dataframe tbody tr th:only-of-type {\n",
       "        vertical-align: middle;\n",
       "    }\n",
       "\n",
       "    .dataframe tbody tr th {\n",
       "        vertical-align: top;\n",
       "    }\n",
       "\n",
       "    .dataframe thead th {\n",
       "        text-align: right;\n",
       "    }\n",
       "</style>\n",
       "<table border=\"1\" class=\"dataframe\">\n",
       "  <thead>\n",
       "    <tr style=\"text-align: right;\">\n",
       "      <th></th>\n",
       "      <th>Algorithm</th>\n",
       "      <th>RMSE</th>\n",
       "      <th>train_R2</th>\n",
       "      <th>test_R2</th>\n",
       "      <th>diff_R2</th>\n",
       "    </tr>\n",
       "  </thead>\n",
       "  <tbody>\n",
       "    <tr>\n",
       "      <th>1</th>\n",
       "      <td>Linear Regression</td>\n",
       "      <td>7.127761</td>\n",
       "      <td>0.814293</td>\n",
       "      <td>0.792959</td>\n",
       "      <td>0.021335</td>\n",
       "    </tr>\n",
       "    <tr>\n",
       "      <th>2</th>\n",
       "      <td>Ridge</td>\n",
       "      <td>7.133896</td>\n",
       "      <td>0.813659</td>\n",
       "      <td>0.792602</td>\n",
       "      <td>0.021057</td>\n",
       "    </tr>\n",
       "    <tr>\n",
       "      <th>3</th>\n",
       "      <td>Lasso</td>\n",
       "      <td>10.171401</td>\n",
       "      <td>0.583986</td>\n",
       "      <td>0.578389</td>\n",
       "      <td>0.005597</td>\n",
       "    </tr>\n",
       "  </tbody>\n",
       "</table>\n",
       "</div>"
      ],
      "text/plain": [
       "           Algorithm       RMSE  train_R2   test_R2   diff_R2\n",
       "1  Linear Regression   7.127761  0.814293  0.792959  0.021335\n",
       "2              Ridge   7.133896  0.813659  0.792602  0.021057\n",
       "3              Lasso  10.171401  0.583986  0.578389  0.005597"
      ]
     },
     "execution_count": 23,
     "metadata": {},
     "output_type": "execute_result"
    }
   ],
   "source": [
    "results_3 = pd.DataFrame({'Algorithm':['Lasso'],\n",
    "                         \"RMSE\":rmse_lasso,\n",
    "                         \"train_R2\":train_r2_score,\n",
    "                         \"test_R2\":test_r2_score,\n",
    "                         \"diff_R2\":r2_diff}, index=[3])\n",
    "results = pd.concat([results, results_3])\n",
    "\n",
    "results = results[['Algorithm', 'RMSE', \"train_R2\", \"test_R2\", 'diff_R2']]\n",
    "results"
   ]
  },
  {
   "cell_type": "markdown",
   "id": "b6bce267",
   "metadata": {},
   "source": [
    "## Decision Tree"
   ]
  },
  {
   "cell_type": "code",
   "execution_count": 24,
   "id": "14cf1756",
   "metadata": {},
   "outputs": [],
   "source": [
    "dt = DecisionTreeRegressor()\n",
    "dt.fit(X_train_processed, y_train)\n",
    "\n",
    "y_train_pred = dt.predict(X_train_processed)\n",
    "y_test_pred = dt.predict(X_test_processed)\n",
    "\n",
    "mse_dt = metrics.mean_squared_error(y_test, y_test_pred)\n",
    "rmse_dt = np.sqrt(mse_dt)\n",
    "test_r2_score = metrics.r2_score(y_test, y_test_pred)\n",
    "\n",
    "train_r2_score = metrics.r2_score(y_train, y_train_pred)\n",
    "\n",
    "r2_diff = train_r2_score - test_r2_score"
   ]
  },
  {
   "cell_type": "code",
   "execution_count": 25,
   "id": "e516a2ed",
   "metadata": {},
   "outputs": [
    {
     "name": "stdout",
     "output_type": "stream",
     "text": [
      "Mean Squared Error:  36.77232814569537\n",
      "Root MSE:  6.0640191412705295\n",
      "test_R2_Score:  0.8501448819439038\n",
      "train_R2_Score:  0.9952331365883328\n",
      "Difference in R2_score for train and test:  0.14508825464442898\n"
     ]
    }
   ],
   "source": [
    "print('Mean Squared Error: ', mse_dt)\n",
    "print('Root MSE: ', rmse_dt)\n",
    "print('test_R2_Score: ', test_r2_score)\n",
    "print('train_R2_Score: ', train_r2_score)\n",
    "print('Difference in R2_score for train and test: ', \n",
    "      train_r2_score - test_r2_score)"
   ]
  },
  {
   "cell_type": "code",
   "execution_count": 26,
   "id": "d06ab74c",
   "metadata": {},
   "outputs": [
    {
     "data": {
      "text/html": [
       "<div>\n",
       "<style scoped>\n",
       "    .dataframe tbody tr th:only-of-type {\n",
       "        vertical-align: middle;\n",
       "    }\n",
       "\n",
       "    .dataframe tbody tr th {\n",
       "        vertical-align: top;\n",
       "    }\n",
       "\n",
       "    .dataframe thead th {\n",
       "        text-align: right;\n",
       "    }\n",
       "</style>\n",
       "<table border=\"1\" class=\"dataframe\">\n",
       "  <thead>\n",
       "    <tr style=\"text-align: right;\">\n",
       "      <th></th>\n",
       "      <th>Algorithm</th>\n",
       "      <th>RMSE</th>\n",
       "      <th>train_R2</th>\n",
       "      <th>test_R2</th>\n",
       "      <th>diff_R2</th>\n",
       "    </tr>\n",
       "  </thead>\n",
       "  <tbody>\n",
       "    <tr>\n",
       "      <th>1</th>\n",
       "      <td>Linear Regression</td>\n",
       "      <td>7.127761</td>\n",
       "      <td>0.814293</td>\n",
       "      <td>0.792959</td>\n",
       "      <td>0.021335</td>\n",
       "    </tr>\n",
       "    <tr>\n",
       "      <th>2</th>\n",
       "      <td>Ridge</td>\n",
       "      <td>7.133896</td>\n",
       "      <td>0.813659</td>\n",
       "      <td>0.792602</td>\n",
       "      <td>0.021057</td>\n",
       "    </tr>\n",
       "    <tr>\n",
       "      <th>3</th>\n",
       "      <td>Lasso</td>\n",
       "      <td>10.171401</td>\n",
       "      <td>0.583986</td>\n",
       "      <td>0.578389</td>\n",
       "      <td>0.005597</td>\n",
       "    </tr>\n",
       "    <tr>\n",
       "      <th>4</th>\n",
       "      <td>Decision Tree</td>\n",
       "      <td>6.064019</td>\n",
       "      <td>0.995233</td>\n",
       "      <td>0.850145</td>\n",
       "      <td>0.145088</td>\n",
       "    </tr>\n",
       "  </tbody>\n",
       "</table>\n",
       "</div>"
      ],
      "text/plain": [
       "           Algorithm       RMSE  train_R2   test_R2   diff_R2\n",
       "1  Linear Regression   7.127761  0.814293  0.792959  0.021335\n",
       "2              Ridge   7.133896  0.813659  0.792602  0.021057\n",
       "3              Lasso  10.171401  0.583986  0.578389  0.005597\n",
       "4      Decision Tree   6.064019  0.995233  0.850145  0.145088"
      ]
     },
     "execution_count": 26,
     "metadata": {},
     "output_type": "execute_result"
    }
   ],
   "source": [
    "results_4 = pd.DataFrame({'Algorithm':['Decision Tree'],\n",
    "                         \"RMSE\":rmse_dt,\n",
    "                         \"train_R2\":train_r2_score,\n",
    "                         \"test_R2\":test_r2_score,\n",
    "                         \"diff_R2\":r2_diff}, index=[4])\n",
    "results = pd.concat([results, results_4])\n",
    "\n",
    "results = results[['Algorithm', 'RMSE', \"train_R2\", \"test_R2\", 'diff_R2']]\n",
    "results"
   ]
  },
  {
   "cell_type": "markdown",
   "id": "14bbc9ee",
   "metadata": {},
   "source": [
    "## SVR"
   ]
  },
  {
   "cell_type": "code",
   "execution_count": 27,
   "id": "5a679f98",
   "metadata": {},
   "outputs": [],
   "source": [
    "svr = SVR()\n",
    "svr.fit(X_train_processed, y_train)\n",
    "\n",
    "y_train_pred = svr.predict(X_train_processed)\n",
    "y_test_pred = svr.predict(X_test_processed)\n",
    "\n",
    "mse_svr = metrics.mean_squared_error(y_test, y_test_pred)\n",
    "rmse_svr = np.sqrt(mse_svr)\n",
    "test_r2_score = metrics.r2_score(y_test, y_test_pred)\n",
    "\n",
    "train_r2_score = metrics.r2_score(y_train, y_train_pred)\n",
    "\n",
    "r2_diff = train_r2_score - test_r2_score"
   ]
  },
  {
   "cell_type": "code",
   "execution_count": 28,
   "id": "d48a46da",
   "metadata": {},
   "outputs": [
    {
     "name": "stdout",
     "output_type": "stream",
     "text": [
      "Mean Squared Error:  63.320659152189116\n",
      "Root MSE:  7.957427923153883\n",
      "test_R2_Score:  0.7419547433862461\n",
      "train_R2_Score:  0.7788190200633267\n",
      "Difference in R2_score for train and test:  0.03686427667708059\n"
     ]
    }
   ],
   "source": [
    "print('Mean Squared Error: ', mse_svr)\n",
    "print('Root MSE: ', rmse_svr)\n",
    "print('test_R2_Score: ', test_r2_score)\n",
    "print('train_R2_Score: ', train_r2_score)\n",
    "print('Difference in R2_score for train and test: ', \n",
    "      train_r2_score - test_r2_score)"
   ]
  },
  {
   "cell_type": "code",
   "execution_count": 29,
   "id": "82f94096",
   "metadata": {},
   "outputs": [
    {
     "data": {
      "text/html": [
       "<div>\n",
       "<style scoped>\n",
       "    .dataframe tbody tr th:only-of-type {\n",
       "        vertical-align: middle;\n",
       "    }\n",
       "\n",
       "    .dataframe tbody tr th {\n",
       "        vertical-align: top;\n",
       "    }\n",
       "\n",
       "    .dataframe thead th {\n",
       "        text-align: right;\n",
       "    }\n",
       "</style>\n",
       "<table border=\"1\" class=\"dataframe\">\n",
       "  <thead>\n",
       "    <tr style=\"text-align: right;\">\n",
       "      <th></th>\n",
       "      <th>Algorithm</th>\n",
       "      <th>RMSE</th>\n",
       "      <th>train_R2</th>\n",
       "      <th>test_R2</th>\n",
       "      <th>diff_R2</th>\n",
       "    </tr>\n",
       "  </thead>\n",
       "  <tbody>\n",
       "    <tr>\n",
       "      <th>1</th>\n",
       "      <td>Linear Regression</td>\n",
       "      <td>7.127761</td>\n",
       "      <td>0.814293</td>\n",
       "      <td>0.792959</td>\n",
       "      <td>0.021335</td>\n",
       "    </tr>\n",
       "    <tr>\n",
       "      <th>2</th>\n",
       "      <td>Ridge</td>\n",
       "      <td>7.133896</td>\n",
       "      <td>0.813659</td>\n",
       "      <td>0.792602</td>\n",
       "      <td>0.021057</td>\n",
       "    </tr>\n",
       "    <tr>\n",
       "      <th>3</th>\n",
       "      <td>Lasso</td>\n",
       "      <td>10.171401</td>\n",
       "      <td>0.583986</td>\n",
       "      <td>0.578389</td>\n",
       "      <td>0.005597</td>\n",
       "    </tr>\n",
       "    <tr>\n",
       "      <th>4</th>\n",
       "      <td>Decision Tree</td>\n",
       "      <td>6.064019</td>\n",
       "      <td>0.995233</td>\n",
       "      <td>0.850145</td>\n",
       "      <td>0.145088</td>\n",
       "    </tr>\n",
       "    <tr>\n",
       "      <th>5</th>\n",
       "      <td>SVR</td>\n",
       "      <td>7.957428</td>\n",
       "      <td>0.778819</td>\n",
       "      <td>0.741955</td>\n",
       "      <td>0.036864</td>\n",
       "    </tr>\n",
       "  </tbody>\n",
       "</table>\n",
       "</div>"
      ],
      "text/plain": [
       "           Algorithm       RMSE  train_R2   test_R2   diff_R2\n",
       "1  Linear Regression   7.127761  0.814293  0.792959  0.021335\n",
       "2              Ridge   7.133896  0.813659  0.792602  0.021057\n",
       "3              Lasso  10.171401  0.583986  0.578389  0.005597\n",
       "4      Decision Tree   6.064019  0.995233  0.850145  0.145088\n",
       "5                SVR   7.957428  0.778819  0.741955  0.036864"
      ]
     },
     "execution_count": 29,
     "metadata": {},
     "output_type": "execute_result"
    }
   ],
   "source": [
    "results_5 = pd.DataFrame({'Algorithm':['SVR'],\n",
    "                         \"RMSE\":rmse_svr,\n",
    "                         \"train_R2\":train_r2_score,\n",
    "                         \"test_R2\":test_r2_score,\n",
    "                         \"diff_R2\":r2_diff}, index=[5])\n",
    "results = pd.concat([results, results_5])\n",
    "\n",
    "results = results[['Algorithm', 'RMSE', \"train_R2\", \"test_R2\", 'diff_R2']]\n",
    "results"
   ]
  },
  {
   "cell_type": "markdown",
   "id": "67b53407",
   "metadata": {},
   "source": [
    "## Random Forest"
   ]
  },
  {
   "cell_type": "code",
   "execution_count": 30,
   "id": "6c3e4a33",
   "metadata": {},
   "outputs": [],
   "source": [
    "rf = RandomForestRegressor()\n",
    "rf.fit(X_train_processed, y_train)\n",
    "\n",
    "y_train_pred = rf.predict(X_train_processed)\n",
    "y_test_pred = rf.predict(X_test_processed)\n",
    "\n",
    "mse_rf = metrics.mean_squared_error(y_test, y_test_pred)\n",
    "rmse_rf = np.sqrt(mse_rf)\n",
    "test_r2_score = metrics.r2_score(y_test, y_test_pred)\n",
    "\n",
    "train_r2_score = metrics.r2_score(y_train, y_train_pred)\n",
    "\n",
    "r2_diff = train_r2_score - test_r2_score"
   ]
  },
  {
   "cell_type": "code",
   "execution_count": 31,
   "id": "32327412",
   "metadata": {},
   "outputs": [
    {
     "name": "stdout",
     "output_type": "stream",
     "text": [
      "Mean Squared Error:  23.58311311493439\n",
      "Root MSE:  4.856244754430566\n",
      "test_R2_Score:  0.9038937598411901\n",
      "train_R2_Score:  0.9806262385437269\n",
      "Difference in R2_score for train and test:  0.07673247870253674\n"
     ]
    }
   ],
   "source": [
    "print('Mean Squared Error: ', mse_rf)\n",
    "print('Root MSE: ', rmse_rf)\n",
    "print('test_R2_Score: ', test_r2_score)\n",
    "print('train_R2_Score: ', train_r2_score)\n",
    "print('Difference in R2_score for train and test: ', \n",
    "      train_r2_score - test_r2_score)"
   ]
  },
  {
   "cell_type": "code",
   "execution_count": 32,
   "id": "dfb61cea",
   "metadata": {},
   "outputs": [
    {
     "data": {
      "text/html": [
       "<div>\n",
       "<style scoped>\n",
       "    .dataframe tbody tr th:only-of-type {\n",
       "        vertical-align: middle;\n",
       "    }\n",
       "\n",
       "    .dataframe tbody tr th {\n",
       "        vertical-align: top;\n",
       "    }\n",
       "\n",
       "    .dataframe thead th {\n",
       "        text-align: right;\n",
       "    }\n",
       "</style>\n",
       "<table border=\"1\" class=\"dataframe\">\n",
       "  <thead>\n",
       "    <tr style=\"text-align: right;\">\n",
       "      <th></th>\n",
       "      <th>Algorithm</th>\n",
       "      <th>RMSE</th>\n",
       "      <th>train_R2</th>\n",
       "      <th>test_R2</th>\n",
       "      <th>diff_R2</th>\n",
       "    </tr>\n",
       "  </thead>\n",
       "  <tbody>\n",
       "    <tr>\n",
       "      <th>1</th>\n",
       "      <td>Linear Regression</td>\n",
       "      <td>7.127761</td>\n",
       "      <td>0.814293</td>\n",
       "      <td>0.792959</td>\n",
       "      <td>0.021335</td>\n",
       "    </tr>\n",
       "    <tr>\n",
       "      <th>2</th>\n",
       "      <td>Ridge</td>\n",
       "      <td>7.133896</td>\n",
       "      <td>0.813659</td>\n",
       "      <td>0.792602</td>\n",
       "      <td>0.021057</td>\n",
       "    </tr>\n",
       "    <tr>\n",
       "      <th>3</th>\n",
       "      <td>Lasso</td>\n",
       "      <td>10.171401</td>\n",
       "      <td>0.583986</td>\n",
       "      <td>0.578389</td>\n",
       "      <td>0.005597</td>\n",
       "    </tr>\n",
       "    <tr>\n",
       "      <th>4</th>\n",
       "      <td>Decision Tree</td>\n",
       "      <td>6.064019</td>\n",
       "      <td>0.995233</td>\n",
       "      <td>0.850145</td>\n",
       "      <td>0.145088</td>\n",
       "    </tr>\n",
       "    <tr>\n",
       "      <th>5</th>\n",
       "      <td>SVR</td>\n",
       "      <td>7.957428</td>\n",
       "      <td>0.778819</td>\n",
       "      <td>0.741955</td>\n",
       "      <td>0.036864</td>\n",
       "    </tr>\n",
       "    <tr>\n",
       "      <th>6</th>\n",
       "      <td>Random Forest</td>\n",
       "      <td>4.856245</td>\n",
       "      <td>0.980626</td>\n",
       "      <td>0.903894</td>\n",
       "      <td>0.076732</td>\n",
       "    </tr>\n",
       "  </tbody>\n",
       "</table>\n",
       "</div>"
      ],
      "text/plain": [
       "           Algorithm       RMSE  train_R2   test_R2   diff_R2\n",
       "1  Linear Regression   7.127761  0.814293  0.792959  0.021335\n",
       "2              Ridge   7.133896  0.813659  0.792602  0.021057\n",
       "3              Lasso  10.171401  0.583986  0.578389  0.005597\n",
       "4      Decision Tree   6.064019  0.995233  0.850145  0.145088\n",
       "5                SVR   7.957428  0.778819  0.741955  0.036864\n",
       "6      Random Forest   4.856245  0.980626  0.903894  0.076732"
      ]
     },
     "execution_count": 32,
     "metadata": {},
     "output_type": "execute_result"
    }
   ],
   "source": [
    "results_6 = pd.DataFrame({'Algorithm':['Random Forest'],\n",
    "                         \"RMSE\":rmse_rf,\n",
    "                         \"train_R2\":train_r2_score,\n",
    "                         \"test_R2\":test_r2_score,\n",
    "                         \"diff_R2\":r2_diff}, index=[6])\n",
    "results = pd.concat([results, results_6])\n",
    "\n",
    "results = results[['Algorithm', 'RMSE', \"train_R2\", \"test_R2\", 'diff_R2']]\n",
    "results"
   ]
  },
  {
   "cell_type": "markdown",
   "id": "7ef5fb48",
   "metadata": {},
   "source": [
    "## XGBoost"
   ]
  },
  {
   "cell_type": "code",
   "execution_count": 33,
   "id": "ac2bd6b6",
   "metadata": {},
   "outputs": [],
   "source": [
    "xg = XGBRegressor()\n",
    "xg.fit(X_train_processed, y_train)\n",
    "\n",
    "y_train_pred = xg.predict(X_train_processed)\n",
    "y_test_pred = xg.predict(X_test_processed)\n",
    "\n",
    "mse_xg = metrics.mean_squared_error(y_test, y_test_pred)\n",
    "rmse_xg = np.sqrt(mse_xg)\n",
    "test_r2_score = metrics.r2_score(y_test, y_test_pred)\n",
    "\n",
    "train_r2_score = metrics.r2_score(y_train, y_train_pred)\n",
    "\n",
    "r2_diff = train_r2_score - test_r2_score"
   ]
  },
  {
   "cell_type": "code",
   "execution_count": 34,
   "id": "29f333ae",
   "metadata": {},
   "outputs": [
    {
     "name": "stdout",
     "output_type": "stream",
     "text": [
      "Mean Squared Error:  17.419733785157806\n",
      "Root MSE:  4.173695459081533\n",
      "test_R2_Score:  0.9290108515148184\n",
      "train_R2_Score:  0.9948297911155417\n",
      "Difference in R2_score for train and test:  0.06581893960072327\n"
     ]
    }
   ],
   "source": [
    "print('Mean Squared Error: ', mse_xg)\n",
    "print('Root MSE: ', rmse_xg)\n",
    "print('test_R2_Score: ', test_r2_score)\n",
    "print('train_R2_Score: ', train_r2_score)\n",
    "print('Difference in R2_score for train and test: ', \n",
    "      train_r2_score - test_r2_score)"
   ]
  },
  {
   "cell_type": "code",
   "execution_count": 34,
   "id": "4e4f7bc9",
   "metadata": {},
   "outputs": [
    {
     "data": {
      "text/html": [
       "<div>\n",
       "<style scoped>\n",
       "    .dataframe tbody tr th:only-of-type {\n",
       "        vertical-align: middle;\n",
       "    }\n",
       "\n",
       "    .dataframe tbody tr th {\n",
       "        vertical-align: top;\n",
       "    }\n",
       "\n",
       "    .dataframe thead th {\n",
       "        text-align: right;\n",
       "    }\n",
       "</style>\n",
       "<table border=\"1\" class=\"dataframe\">\n",
       "  <thead>\n",
       "    <tr style=\"text-align: right;\">\n",
       "      <th></th>\n",
       "      <th>Algorithm</th>\n",
       "      <th>RMSE</th>\n",
       "      <th>train_R2</th>\n",
       "      <th>test_R2</th>\n",
       "      <th>diff_R2</th>\n",
       "    </tr>\n",
       "  </thead>\n",
       "  <tbody>\n",
       "    <tr>\n",
       "      <th>1</th>\n",
       "      <td>Linear Regression</td>\n",
       "      <td>7.127761</td>\n",
       "      <td>0.814293</td>\n",
       "      <td>0.792959</td>\n",
       "      <td>0.021335</td>\n",
       "    </tr>\n",
       "    <tr>\n",
       "      <th>2</th>\n",
       "      <td>Ridge</td>\n",
       "      <td>7.133896</td>\n",
       "      <td>0.813659</td>\n",
       "      <td>0.792602</td>\n",
       "      <td>0.021057</td>\n",
       "    </tr>\n",
       "    <tr>\n",
       "      <th>3</th>\n",
       "      <td>Lasso</td>\n",
       "      <td>10.171401</td>\n",
       "      <td>0.583986</td>\n",
       "      <td>0.578389</td>\n",
       "      <td>0.005597</td>\n",
       "    </tr>\n",
       "    <tr>\n",
       "      <th>4</th>\n",
       "      <td>Decision Tree</td>\n",
       "      <td>6.064019</td>\n",
       "      <td>0.995233</td>\n",
       "      <td>0.850145</td>\n",
       "      <td>0.145088</td>\n",
       "    </tr>\n",
       "    <tr>\n",
       "      <th>5</th>\n",
       "      <td>SVR</td>\n",
       "      <td>7.957428</td>\n",
       "      <td>0.778819</td>\n",
       "      <td>0.741955</td>\n",
       "      <td>0.036864</td>\n",
       "    </tr>\n",
       "    <tr>\n",
       "      <th>6</th>\n",
       "      <td>Random Forest</td>\n",
       "      <td>4.856245</td>\n",
       "      <td>0.980626</td>\n",
       "      <td>0.903894</td>\n",
       "      <td>0.076732</td>\n",
       "    </tr>\n",
       "    <tr>\n",
       "      <th>7</th>\n",
       "      <td>XGBoost</td>\n",
       "      <td>4.173695</td>\n",
       "      <td>0.994830</td>\n",
       "      <td>0.929011</td>\n",
       "      <td>0.065819</td>\n",
       "    </tr>\n",
       "  </tbody>\n",
       "</table>\n",
       "</div>"
      ],
      "text/plain": [
       "           Algorithm       RMSE  train_R2   test_R2   diff_R2\n",
       "1  Linear Regression   7.127761  0.814293  0.792959  0.021335\n",
       "2              Ridge   7.133896  0.813659  0.792602  0.021057\n",
       "3              Lasso  10.171401  0.583986  0.578389  0.005597\n",
       "4      Decision Tree   6.064019  0.995233  0.850145  0.145088\n",
       "5                SVR   7.957428  0.778819  0.741955  0.036864\n",
       "6      Random Forest   4.856245  0.980626  0.903894  0.076732\n",
       "7            XGBoost   4.173695  0.994830  0.929011  0.065819"
      ]
     },
     "execution_count": 34,
     "metadata": {},
     "output_type": "execute_result"
    }
   ],
   "source": [
    "results_7 = pd.DataFrame({'Algorithm':['XGBoost'],\n",
    "                         \"RMSE\":rmse_xg,\n",
    "                         \"train_R2\":train_r2_score,\n",
    "                         \"test_R2\":test_r2_score,\n",
    "                         \"diff_R2\":r2_diff}, index=[7])\n",
    "results = pd.concat([results, results_7])\n",
    "\n",
    "results = results[['Algorithm', 'RMSE', \"train_R2\", \"test_R2\", 'diff_R2']]\n",
    "results"
   ]
  },
  {
   "cell_type": "code",
   "execution_count": 35,
   "id": "0379c933",
   "metadata": {},
   "outputs": [
    {
     "data": {
      "text/html": [
       "<div>\n",
       "<style scoped>\n",
       "    .dataframe tbody tr th:only-of-type {\n",
       "        vertical-align: middle;\n",
       "    }\n",
       "\n",
       "    .dataframe tbody tr th {\n",
       "        vertical-align: top;\n",
       "    }\n",
       "\n",
       "    .dataframe thead th {\n",
       "        text-align: right;\n",
       "    }\n",
       "</style>\n",
       "<table border=\"1\" class=\"dataframe\">\n",
       "  <thead>\n",
       "    <tr style=\"text-align: right;\">\n",
       "      <th></th>\n",
       "      <th>Algorithm</th>\n",
       "      <th>RMSE</th>\n",
       "      <th>train_R2</th>\n",
       "      <th>test_R2</th>\n",
       "      <th>diff_R2</th>\n",
       "    </tr>\n",
       "  </thead>\n",
       "  <tbody>\n",
       "    <tr>\n",
       "      <th>7</th>\n",
       "      <td>XGBoost</td>\n",
       "      <td>4.173695</td>\n",
       "      <td>0.994830</td>\n",
       "      <td>0.929011</td>\n",
       "      <td>0.065819</td>\n",
       "    </tr>\n",
       "    <tr>\n",
       "      <th>6</th>\n",
       "      <td>Random Forest</td>\n",
       "      <td>4.856245</td>\n",
       "      <td>0.980626</td>\n",
       "      <td>0.903894</td>\n",
       "      <td>0.076732</td>\n",
       "    </tr>\n",
       "    <tr>\n",
       "      <th>4</th>\n",
       "      <td>Decision Tree</td>\n",
       "      <td>6.064019</td>\n",
       "      <td>0.995233</td>\n",
       "      <td>0.850145</td>\n",
       "      <td>0.145088</td>\n",
       "    </tr>\n",
       "    <tr>\n",
       "      <th>1</th>\n",
       "      <td>Linear Regression</td>\n",
       "      <td>7.127761</td>\n",
       "      <td>0.814293</td>\n",
       "      <td>0.792959</td>\n",
       "      <td>0.021335</td>\n",
       "    </tr>\n",
       "    <tr>\n",
       "      <th>2</th>\n",
       "      <td>Ridge</td>\n",
       "      <td>7.133896</td>\n",
       "      <td>0.813659</td>\n",
       "      <td>0.792602</td>\n",
       "      <td>0.021057</td>\n",
       "    </tr>\n",
       "    <tr>\n",
       "      <th>5</th>\n",
       "      <td>SVR</td>\n",
       "      <td>7.957428</td>\n",
       "      <td>0.778819</td>\n",
       "      <td>0.741955</td>\n",
       "      <td>0.036864</td>\n",
       "    </tr>\n",
       "    <tr>\n",
       "      <th>3</th>\n",
       "      <td>Lasso</td>\n",
       "      <td>10.171401</td>\n",
       "      <td>0.583986</td>\n",
       "      <td>0.578389</td>\n",
       "      <td>0.005597</td>\n",
       "    </tr>\n",
       "  </tbody>\n",
       "</table>\n",
       "</div>"
      ],
      "text/plain": [
       "           Algorithm       RMSE  train_R2   test_R2   diff_R2\n",
       "7            XGBoost   4.173695  0.994830  0.929011  0.065819\n",
       "6      Random Forest   4.856245  0.980626  0.903894  0.076732\n",
       "4      Decision Tree   6.064019  0.995233  0.850145  0.145088\n",
       "1  Linear Regression   7.127761  0.814293  0.792959  0.021335\n",
       "2              Ridge   7.133896  0.813659  0.792602  0.021057\n",
       "5                SVR   7.957428  0.778819  0.741955  0.036864\n",
       "3              Lasso  10.171401  0.583986  0.578389  0.005597"
      ]
     },
     "execution_count": 35,
     "metadata": {},
     "output_type": "execute_result"
    }
   ],
   "source": [
    "results.sort_values(by=['test_R2', 'train_R2','diff_R2',\"RMSE\"],\n",
    "                    ascending=[False, False, True, True])"
   ]
  },
  {
   "cell_type": "markdown",
   "id": "8c21c756",
   "metadata": {},
   "source": [
    "For above results, clearly **XGBoost** and **Random Forest**, gives best results of all the possible model the dataset is applied on."
   ]
  },
  {
   "cell_type": "markdown",
   "id": "5bb1174f",
   "metadata": {},
   "source": [
    "## HyperParameter Tuning"
   ]
  },
  {
   "cell_type": "markdown",
   "id": "80f8df08",
   "metadata": {},
   "source": [
    "### Random Forest"
   ]
  },
  {
   "cell_type": "code",
   "execution_count": 37,
   "id": "f078a726",
   "metadata": {},
   "outputs": [],
   "source": [
    "param_grid = {\n",
    "    \"n_estimators\":np.linspace(100, 1000,10, dtype=int),\n",
    "    'max_depth':np.linspace(2,30,15),\n",
    "    'criterion':['mse', 'mae']\n",
    "}"
   ]
  },
  {
   "cell_type": "code",
   "execution_count": 38,
   "id": "90190a18",
   "metadata": {},
   "outputs": [],
   "source": [
    "grid = GridSearchCV(estimator=RandomForestRegressor(),\n",
    "                   param_grid=param_grid,\n",
    "                   cv=5,\n",
    "                   return_train_score=True, verbose=4,\n",
    "                   n_jobs=-1)"
   ]
  },
  {
   "cell_type": "code",
   "execution_count": 39,
   "id": "98eb9597",
   "metadata": {},
   "outputs": [
    {
     "name": "stdout",
     "output_type": "stream",
     "text": [
      "Fitting 5 folds for each of 300 candidates, totalling 1500 fits\n"
     ]
    },
    {
     "data": {
      "text/html": [
       "<style>#sk-f90ee21d-aede-4b28-b198-cd692d9a62d2 {color: black;background-color: white;}#sk-f90ee21d-aede-4b28-b198-cd692d9a62d2 pre{padding: 0;}#sk-f90ee21d-aede-4b28-b198-cd692d9a62d2 div.sk-toggleable {background-color: white;}#sk-f90ee21d-aede-4b28-b198-cd692d9a62d2 label.sk-toggleable__label {cursor: pointer;display: block;width: 100%;margin-bottom: 0;padding: 0.3em;box-sizing: border-box;text-align: center;}#sk-f90ee21d-aede-4b28-b198-cd692d9a62d2 label.sk-toggleable__label-arrow:before {content: \"▸\";float: left;margin-right: 0.25em;color: #696969;}#sk-f90ee21d-aede-4b28-b198-cd692d9a62d2 label.sk-toggleable__label-arrow:hover:before {color: black;}#sk-f90ee21d-aede-4b28-b198-cd692d9a62d2 div.sk-estimator:hover label.sk-toggleable__label-arrow:before {color: black;}#sk-f90ee21d-aede-4b28-b198-cd692d9a62d2 div.sk-toggleable__content {max-height: 0;max-width: 0;overflow: hidden;text-align: left;background-color: #f0f8ff;}#sk-f90ee21d-aede-4b28-b198-cd692d9a62d2 div.sk-toggleable__content pre {margin: 0.2em;color: black;border-radius: 0.25em;background-color: #f0f8ff;}#sk-f90ee21d-aede-4b28-b198-cd692d9a62d2 input.sk-toggleable__control:checked~div.sk-toggleable__content {max-height: 200px;max-width: 100%;overflow: auto;}#sk-f90ee21d-aede-4b28-b198-cd692d9a62d2 input.sk-toggleable__control:checked~label.sk-toggleable__label-arrow:before {content: \"▾\";}#sk-f90ee21d-aede-4b28-b198-cd692d9a62d2 div.sk-estimator input.sk-toggleable__control:checked~label.sk-toggleable__label {background-color: #d4ebff;}#sk-f90ee21d-aede-4b28-b198-cd692d9a62d2 div.sk-label input.sk-toggleable__control:checked~label.sk-toggleable__label {background-color: #d4ebff;}#sk-f90ee21d-aede-4b28-b198-cd692d9a62d2 input.sk-hidden--visually {border: 0;clip: rect(1px 1px 1px 1px);clip: rect(1px, 1px, 1px, 1px);height: 1px;margin: -1px;overflow: hidden;padding: 0;position: absolute;width: 1px;}#sk-f90ee21d-aede-4b28-b198-cd692d9a62d2 div.sk-estimator {font-family: monospace;background-color: #f0f8ff;border: 1px dotted black;border-radius: 0.25em;box-sizing: border-box;margin-bottom: 0.5em;}#sk-f90ee21d-aede-4b28-b198-cd692d9a62d2 div.sk-estimator:hover {background-color: #d4ebff;}#sk-f90ee21d-aede-4b28-b198-cd692d9a62d2 div.sk-parallel-item::after {content: \"\";width: 100%;border-bottom: 1px solid gray;flex-grow: 1;}#sk-f90ee21d-aede-4b28-b198-cd692d9a62d2 div.sk-label:hover label.sk-toggleable__label {background-color: #d4ebff;}#sk-f90ee21d-aede-4b28-b198-cd692d9a62d2 div.sk-serial::before {content: \"\";position: absolute;border-left: 1px solid gray;box-sizing: border-box;top: 2em;bottom: 0;left: 50%;}#sk-f90ee21d-aede-4b28-b198-cd692d9a62d2 div.sk-serial {display: flex;flex-direction: column;align-items: center;background-color: white;padding-right: 0.2em;padding-left: 0.2em;}#sk-f90ee21d-aede-4b28-b198-cd692d9a62d2 div.sk-item {z-index: 1;}#sk-f90ee21d-aede-4b28-b198-cd692d9a62d2 div.sk-parallel {display: flex;align-items: stretch;justify-content: center;background-color: white;}#sk-f90ee21d-aede-4b28-b198-cd692d9a62d2 div.sk-parallel::before {content: \"\";position: absolute;border-left: 1px solid gray;box-sizing: border-box;top: 2em;bottom: 0;left: 50%;}#sk-f90ee21d-aede-4b28-b198-cd692d9a62d2 div.sk-parallel-item {display: flex;flex-direction: column;position: relative;background-color: white;}#sk-f90ee21d-aede-4b28-b198-cd692d9a62d2 div.sk-parallel-item:first-child::after {align-self: flex-end;width: 50%;}#sk-f90ee21d-aede-4b28-b198-cd692d9a62d2 div.sk-parallel-item:last-child::after {align-self: flex-start;width: 50%;}#sk-f90ee21d-aede-4b28-b198-cd692d9a62d2 div.sk-parallel-item:only-child::after {width: 0;}#sk-f90ee21d-aede-4b28-b198-cd692d9a62d2 div.sk-dashed-wrapped {border: 1px dashed gray;margin: 0 0.4em 0.5em 0.4em;box-sizing: border-box;padding-bottom: 0.4em;background-color: white;position: relative;}#sk-f90ee21d-aede-4b28-b198-cd692d9a62d2 div.sk-label label {font-family: monospace;font-weight: bold;background-color: white;display: inline-block;line-height: 1.2em;}#sk-f90ee21d-aede-4b28-b198-cd692d9a62d2 div.sk-label-container {position: relative;z-index: 2;text-align: center;}#sk-f90ee21d-aede-4b28-b198-cd692d9a62d2 div.sk-container {/* jupyter's `normalize.less` sets `[hidden] { display: none; }` but bootstrap.min.css set `[hidden] { display: none !important; }` so we also need the `!important` here to be able to override the default hidden behavior on the sphinx rendered scikit-learn.org. See: https://github.com/scikit-learn/scikit-learn/issues/21755 */display: inline-block !important;position: relative;}#sk-f90ee21d-aede-4b28-b198-cd692d9a62d2 div.sk-text-repr-fallback {display: none;}</style><div id=\"sk-f90ee21d-aede-4b28-b198-cd692d9a62d2\" class=\"sk-top-container\"><div class=\"sk-text-repr-fallback\"><pre>GridSearchCV(cv=5, estimator=RandomForestRegressor(), n_jobs=-1,\n",
       "             param_grid={&#x27;criterion&#x27;: [&#x27;mse&#x27;, &#x27;mae&#x27;],\n",
       "                         &#x27;max_depth&#x27;: array([ 2.,  4.,  6.,  8., 10., 12., 14., 16., 18., 20., 22., 24., 26.,\n",
       "       28., 30.]),\n",
       "                         &#x27;n_estimators&#x27;: array([ 100,  200,  300,  400,  500,  600,  700,  800,  900, 1000])},\n",
       "             return_train_score=True, verbose=4)</pre><b>Please rerun this cell to show the HTML repr or trust the notebook.</b></div><div class=\"sk-container\" hidden><div class=\"sk-item sk-dashed-wrapped\"><div class=\"sk-label-container\"><div class=\"sk-label sk-toggleable\"><input class=\"sk-toggleable__control sk-hidden--visually\" id=\"d2efdd07-9be3-4fa3-8dc9-2a4fc160f369\" type=\"checkbox\" ><label for=\"d2efdd07-9be3-4fa3-8dc9-2a4fc160f369\" class=\"sk-toggleable__label sk-toggleable__label-arrow\">GridSearchCV</label><div class=\"sk-toggleable__content\"><pre>GridSearchCV(cv=5, estimator=RandomForestRegressor(), n_jobs=-1,\n",
       "             param_grid={&#x27;criterion&#x27;: [&#x27;mse&#x27;, &#x27;mae&#x27;],\n",
       "                         &#x27;max_depth&#x27;: array([ 2.,  4.,  6.,  8., 10., 12., 14., 16., 18., 20., 22., 24., 26.,\n",
       "       28., 30.]),\n",
       "                         &#x27;n_estimators&#x27;: array([ 100,  200,  300,  400,  500,  600,  700,  800,  900, 1000])},\n",
       "             return_train_score=True, verbose=4)</pre></div></div></div><div class=\"sk-parallel\"><div class=\"sk-parallel-item\"><div class=\"sk-item\"><div class=\"sk-serial\"><div class=\"sk-item\"><div class=\"sk-estimator sk-toggleable\"><input class=\"sk-toggleable__control sk-hidden--visually\" id=\"aa302c59-42cf-4404-8b01-57b2acbccb2a\" type=\"checkbox\" ><label for=\"aa302c59-42cf-4404-8b01-57b2acbccb2a\" class=\"sk-toggleable__label sk-toggleable__label-arrow\">RandomForestRegressor</label><div class=\"sk-toggleable__content\"><pre>RandomForestRegressor()</pre></div></div></div></div></div></div></div></div></div></div>"
      ],
      "text/plain": [
       "GridSearchCV(cv=5, estimator=RandomForestRegressor(), n_jobs=-1,\n",
       "             param_grid={'criterion': ['mse', 'mae'],\n",
       "                         'max_depth': array([ 2.,  4.,  6.,  8., 10., 12., 14., 16., 18., 20., 22., 24., 26.,\n",
       "       28., 30.]),\n",
       "                         'n_estimators': array([ 100,  200,  300,  400,  500,  600,  700,  800,  900, 1000])},\n",
       "             return_train_score=True, verbose=4)"
      ]
     },
     "execution_count": 39,
     "metadata": {},
     "output_type": "execute_result"
    }
   ],
   "source": [
    "# grid.fit(X_train_processed, y_train)"
   ]
  },
  {
   "cell_type": "code",
   "execution_count": 40,
   "id": "14f40e3e",
   "metadata": {},
   "outputs": [
    {
     "data": {
      "text/html": [
       "<style>#sk-80447299-d037-4989-a067-d6716b8dca9d {color: black;background-color: white;}#sk-80447299-d037-4989-a067-d6716b8dca9d pre{padding: 0;}#sk-80447299-d037-4989-a067-d6716b8dca9d div.sk-toggleable {background-color: white;}#sk-80447299-d037-4989-a067-d6716b8dca9d label.sk-toggleable__label {cursor: pointer;display: block;width: 100%;margin-bottom: 0;padding: 0.3em;box-sizing: border-box;text-align: center;}#sk-80447299-d037-4989-a067-d6716b8dca9d label.sk-toggleable__label-arrow:before {content: \"▸\";float: left;margin-right: 0.25em;color: #696969;}#sk-80447299-d037-4989-a067-d6716b8dca9d label.sk-toggleable__label-arrow:hover:before {color: black;}#sk-80447299-d037-4989-a067-d6716b8dca9d div.sk-estimator:hover label.sk-toggleable__label-arrow:before {color: black;}#sk-80447299-d037-4989-a067-d6716b8dca9d div.sk-toggleable__content {max-height: 0;max-width: 0;overflow: hidden;text-align: left;background-color: #f0f8ff;}#sk-80447299-d037-4989-a067-d6716b8dca9d div.sk-toggleable__content pre {margin: 0.2em;color: black;border-radius: 0.25em;background-color: #f0f8ff;}#sk-80447299-d037-4989-a067-d6716b8dca9d input.sk-toggleable__control:checked~div.sk-toggleable__content {max-height: 200px;max-width: 100%;overflow: auto;}#sk-80447299-d037-4989-a067-d6716b8dca9d input.sk-toggleable__control:checked~label.sk-toggleable__label-arrow:before {content: \"▾\";}#sk-80447299-d037-4989-a067-d6716b8dca9d div.sk-estimator input.sk-toggleable__control:checked~label.sk-toggleable__label {background-color: #d4ebff;}#sk-80447299-d037-4989-a067-d6716b8dca9d div.sk-label input.sk-toggleable__control:checked~label.sk-toggleable__label {background-color: #d4ebff;}#sk-80447299-d037-4989-a067-d6716b8dca9d input.sk-hidden--visually {border: 0;clip: rect(1px 1px 1px 1px);clip: rect(1px, 1px, 1px, 1px);height: 1px;margin: -1px;overflow: hidden;padding: 0;position: absolute;width: 1px;}#sk-80447299-d037-4989-a067-d6716b8dca9d div.sk-estimator {font-family: monospace;background-color: #f0f8ff;border: 1px dotted black;border-radius: 0.25em;box-sizing: border-box;margin-bottom: 0.5em;}#sk-80447299-d037-4989-a067-d6716b8dca9d div.sk-estimator:hover {background-color: #d4ebff;}#sk-80447299-d037-4989-a067-d6716b8dca9d div.sk-parallel-item::after {content: \"\";width: 100%;border-bottom: 1px solid gray;flex-grow: 1;}#sk-80447299-d037-4989-a067-d6716b8dca9d div.sk-label:hover label.sk-toggleable__label {background-color: #d4ebff;}#sk-80447299-d037-4989-a067-d6716b8dca9d div.sk-serial::before {content: \"\";position: absolute;border-left: 1px solid gray;box-sizing: border-box;top: 2em;bottom: 0;left: 50%;}#sk-80447299-d037-4989-a067-d6716b8dca9d div.sk-serial {display: flex;flex-direction: column;align-items: center;background-color: white;padding-right: 0.2em;padding-left: 0.2em;}#sk-80447299-d037-4989-a067-d6716b8dca9d div.sk-item {z-index: 1;}#sk-80447299-d037-4989-a067-d6716b8dca9d div.sk-parallel {display: flex;align-items: stretch;justify-content: center;background-color: white;}#sk-80447299-d037-4989-a067-d6716b8dca9d div.sk-parallel::before {content: \"\";position: absolute;border-left: 1px solid gray;box-sizing: border-box;top: 2em;bottom: 0;left: 50%;}#sk-80447299-d037-4989-a067-d6716b8dca9d div.sk-parallel-item {display: flex;flex-direction: column;position: relative;background-color: white;}#sk-80447299-d037-4989-a067-d6716b8dca9d div.sk-parallel-item:first-child::after {align-self: flex-end;width: 50%;}#sk-80447299-d037-4989-a067-d6716b8dca9d div.sk-parallel-item:last-child::after {align-self: flex-start;width: 50%;}#sk-80447299-d037-4989-a067-d6716b8dca9d div.sk-parallel-item:only-child::after {width: 0;}#sk-80447299-d037-4989-a067-d6716b8dca9d div.sk-dashed-wrapped {border: 1px dashed gray;margin: 0 0.4em 0.5em 0.4em;box-sizing: border-box;padding-bottom: 0.4em;background-color: white;position: relative;}#sk-80447299-d037-4989-a067-d6716b8dca9d div.sk-label label {font-family: monospace;font-weight: bold;background-color: white;display: inline-block;line-height: 1.2em;}#sk-80447299-d037-4989-a067-d6716b8dca9d div.sk-label-container {position: relative;z-index: 2;text-align: center;}#sk-80447299-d037-4989-a067-d6716b8dca9d div.sk-container {/* jupyter's `normalize.less` sets `[hidden] { display: none; }` but bootstrap.min.css set `[hidden] { display: none !important; }` so we also need the `!important` here to be able to override the default hidden behavior on the sphinx rendered scikit-learn.org. See: https://github.com/scikit-learn/scikit-learn/issues/21755 */display: inline-block !important;position: relative;}#sk-80447299-d037-4989-a067-d6716b8dca9d div.sk-text-repr-fallback {display: none;}</style><div id=\"sk-80447299-d037-4989-a067-d6716b8dca9d\" class=\"sk-top-container\"><div class=\"sk-text-repr-fallback\"><pre>RandomForestRegressor(criterion=&#x27;mse&#x27;, max_depth=20.0)</pre><b>Please rerun this cell to show the HTML repr or trust the notebook.</b></div><div class=\"sk-container\" hidden><div class=\"sk-item\"><div class=\"sk-estimator sk-toggleable\"><input class=\"sk-toggleable__control sk-hidden--visually\" id=\"1de816ac-c75f-4d5e-b7ca-7224ed0bcc46\" type=\"checkbox\" checked><label for=\"1de816ac-c75f-4d5e-b7ca-7224ed0bcc46\" class=\"sk-toggleable__label sk-toggleable__label-arrow\">RandomForestRegressor</label><div class=\"sk-toggleable__content\"><pre>RandomForestRegressor(criterion=&#x27;mse&#x27;, max_depth=20.0)</pre></div></div></div></div></div>"
      ],
      "text/plain": [
       "RandomForestRegressor(criterion='mse', max_depth=20.0)"
      ]
     },
     "execution_count": 40,
     "metadata": {},
     "output_type": "execute_result"
    }
   ],
   "source": [
    "# best estimator\n",
    "grid.best_estimator_"
   ]
  },
  {
   "cell_type": "code",
   "execution_count": 41,
   "id": "dd9d0080",
   "metadata": {},
   "outputs": [
    {
     "data": {
      "text/plain": [
       "{'criterion': 'mse', 'max_depth': 20.0, 'n_estimators': 100}"
      ]
     },
     "execution_count": 41,
     "metadata": {},
     "output_type": "execute_result"
    }
   ],
   "source": [
    "grid.best_params_"
   ]
  },
  {
   "cell_type": "code",
   "execution_count": 42,
   "id": "a11f4895",
   "metadata": {},
   "outputs": [],
   "source": [
    "rf_results_hp = pd.DataFrame(grid.cv_results_)"
   ]
  },
  {
   "cell_type": "code",
   "execution_count": 44,
   "id": "42a02fdb",
   "metadata": {},
   "outputs": [
    {
     "data": {
      "text/html": [
       "<div>\n",
       "<style scoped>\n",
       "    .dataframe tbody tr th:only-of-type {\n",
       "        vertical-align: middle;\n",
       "    }\n",
       "\n",
       "    .dataframe tbody tr th {\n",
       "        vertical-align: top;\n",
       "    }\n",
       "\n",
       "    .dataframe thead th {\n",
       "        text-align: right;\n",
       "    }\n",
       "</style>\n",
       "<table border=\"1\" class=\"dataframe\">\n",
       "  <thead>\n",
       "    <tr style=\"text-align: right;\">\n",
       "      <th></th>\n",
       "      <th>mean_fit_time</th>\n",
       "      <th>std_fit_time</th>\n",
       "      <th>mean_score_time</th>\n",
       "      <th>std_score_time</th>\n",
       "      <th>param_criterion</th>\n",
       "      <th>param_max_depth</th>\n",
       "      <th>param_n_estimators</th>\n",
       "      <th>params</th>\n",
       "      <th>split0_test_score</th>\n",
       "      <th>split1_test_score</th>\n",
       "      <th>...</th>\n",
       "      <th>mean_test_score</th>\n",
       "      <th>std_test_score</th>\n",
       "      <th>rank_test_score</th>\n",
       "      <th>split0_train_score</th>\n",
       "      <th>split1_train_score</th>\n",
       "      <th>split2_train_score</th>\n",
       "      <th>split3_train_score</th>\n",
       "      <th>split4_train_score</th>\n",
       "      <th>mean_train_score</th>\n",
       "      <th>std_train_score</th>\n",
       "    </tr>\n",
       "  </thead>\n",
       "  <tbody>\n",
       "    <tr>\n",
       "      <th>0</th>\n",
       "      <td>0.334376</td>\n",
       "      <td>0.007653</td>\n",
       "      <td>0.021855</td>\n",
       "      <td>0.007630</td>\n",
       "      <td>mse</td>\n",
       "      <td>2.0</td>\n",
       "      <td>100</td>\n",
       "      <td>{'criterion': 'mse', 'max_depth': 2.0, 'n_esti...</td>\n",
       "      <td>0.513833</td>\n",
       "      <td>0.574129</td>\n",
       "      <td>...</td>\n",
       "      <td>0.530366</td>\n",
       "      <td>0.038990</td>\n",
       "      <td>289</td>\n",
       "      <td>0.573255</td>\n",
       "      <td>0.572006</td>\n",
       "      <td>0.542285</td>\n",
       "      <td>0.564238</td>\n",
       "      <td>0.558078</td>\n",
       "      <td>0.561972</td>\n",
       "      <td>0.011277</td>\n",
       "    </tr>\n",
       "    <tr>\n",
       "      <th>1</th>\n",
       "      <td>0.663974</td>\n",
       "      <td>0.015309</td>\n",
       "      <td>0.040626</td>\n",
       "      <td>0.007654</td>\n",
       "      <td>mse</td>\n",
       "      <td>2.0</td>\n",
       "      <td>200</td>\n",
       "      <td>{'criterion': 'mse', 'max_depth': 2.0, 'n_esti...</td>\n",
       "      <td>0.515960</td>\n",
       "      <td>0.572997</td>\n",
       "      <td>...</td>\n",
       "      <td>0.528394</td>\n",
       "      <td>0.037146</td>\n",
       "      <td>290</td>\n",
       "      <td>0.575041</td>\n",
       "      <td>0.573159</td>\n",
       "      <td>0.539157</td>\n",
       "      <td>0.565852</td>\n",
       "      <td>0.558895</td>\n",
       "      <td>0.562421</td>\n",
       "      <td>0.012962</td>\n",
       "    </tr>\n",
       "    <tr>\n",
       "      <th>2</th>\n",
       "      <td>0.985848</td>\n",
       "      <td>0.011692</td>\n",
       "      <td>0.062501</td>\n",
       "      <td>0.000003</td>\n",
       "      <td>mse</td>\n",
       "      <td>2.0</td>\n",
       "      <td>300</td>\n",
       "      <td>{'criterion': 'mse', 'max_depth': 2.0, 'n_esti...</td>\n",
       "      <td>0.520415</td>\n",
       "      <td>0.572287</td>\n",
       "      <td>...</td>\n",
       "      <td>0.531363</td>\n",
       "      <td>0.036270</td>\n",
       "      <td>287</td>\n",
       "      <td>0.581075</td>\n",
       "      <td>0.569175</td>\n",
       "      <td>0.542804</td>\n",
       "      <td>0.563511</td>\n",
       "      <td>0.558259</td>\n",
       "      <td>0.562965</td>\n",
       "      <td>0.012613</td>\n",
       "    </tr>\n",
       "    <tr>\n",
       "      <th>3</th>\n",
       "      <td>1.313989</td>\n",
       "      <td>0.015312</td>\n",
       "      <td>0.078122</td>\n",
       "      <td>0.000005</td>\n",
       "      <td>mse</td>\n",
       "      <td>2.0</td>\n",
       "      <td>400</td>\n",
       "      <td>{'criterion': 'mse', 'max_depth': 2.0, 'n_esti...</td>\n",
       "      <td>0.518203</td>\n",
       "      <td>0.575213</td>\n",
       "      <td>...</td>\n",
       "      <td>0.533075</td>\n",
       "      <td>0.036360</td>\n",
       "      <td>282</td>\n",
       "      <td>0.577752</td>\n",
       "      <td>0.573113</td>\n",
       "      <td>0.541873</td>\n",
       "      <td>0.566108</td>\n",
       "      <td>0.561412</td>\n",
       "      <td>0.564052</td>\n",
       "      <td>0.012433</td>\n",
       "    </tr>\n",
       "    <tr>\n",
       "      <th>4</th>\n",
       "      <td>1.638431</td>\n",
       "      <td>0.014645</td>\n",
       "      <td>0.096875</td>\n",
       "      <td>0.006250</td>\n",
       "      <td>mse</td>\n",
       "      <td>2.0</td>\n",
       "      <td>500</td>\n",
       "      <td>{'criterion': 'mse', 'max_depth': 2.0, 'n_esti...</td>\n",
       "      <td>0.517309</td>\n",
       "      <td>0.571645</td>\n",
       "      <td>...</td>\n",
       "      <td>0.531002</td>\n",
       "      <td>0.036599</td>\n",
       "      <td>288</td>\n",
       "      <td>0.578381</td>\n",
       "      <td>0.569913</td>\n",
       "      <td>0.541540</td>\n",
       "      <td>0.564252</td>\n",
       "      <td>0.559621</td>\n",
       "      <td>0.562741</td>\n",
       "      <td>0.012309</td>\n",
       "    </tr>\n",
       "  </tbody>\n",
       "</table>\n",
       "<p>5 rows × 23 columns</p>\n",
       "</div>"
      ],
      "text/plain": [
       "   mean_fit_time  std_fit_time  mean_score_time  std_score_time  \\\n",
       "0       0.334376      0.007653         0.021855        0.007630   \n",
       "1       0.663974      0.015309         0.040626        0.007654   \n",
       "2       0.985848      0.011692         0.062501        0.000003   \n",
       "3       1.313989      0.015312         0.078122        0.000005   \n",
       "4       1.638431      0.014645         0.096875        0.006250   \n",
       "\n",
       "  param_criterion param_max_depth param_n_estimators  \\\n",
       "0             mse             2.0                100   \n",
       "1             mse             2.0                200   \n",
       "2             mse             2.0                300   \n",
       "3             mse             2.0                400   \n",
       "4             mse             2.0                500   \n",
       "\n",
       "                                              params  split0_test_score  \\\n",
       "0  {'criterion': 'mse', 'max_depth': 2.0, 'n_esti...           0.513833   \n",
       "1  {'criterion': 'mse', 'max_depth': 2.0, 'n_esti...           0.515960   \n",
       "2  {'criterion': 'mse', 'max_depth': 2.0, 'n_esti...           0.520415   \n",
       "3  {'criterion': 'mse', 'max_depth': 2.0, 'n_esti...           0.518203   \n",
       "4  {'criterion': 'mse', 'max_depth': 2.0, 'n_esti...           0.517309   \n",
       "\n",
       "   split1_test_score  ...  mean_test_score  std_test_score  rank_test_score  \\\n",
       "0           0.574129  ...         0.530366        0.038990              289   \n",
       "1           0.572997  ...         0.528394        0.037146              290   \n",
       "2           0.572287  ...         0.531363        0.036270              287   \n",
       "3           0.575213  ...         0.533075        0.036360              282   \n",
       "4           0.571645  ...         0.531002        0.036599              288   \n",
       "\n",
       "   split0_train_score  split1_train_score  split2_train_score  \\\n",
       "0            0.573255            0.572006            0.542285   \n",
       "1            0.575041            0.573159            0.539157   \n",
       "2            0.581075            0.569175            0.542804   \n",
       "3            0.577752            0.573113            0.541873   \n",
       "4            0.578381            0.569913            0.541540   \n",
       "\n",
       "   split3_train_score  split4_train_score  mean_train_score  std_train_score  \n",
       "0            0.564238            0.558078          0.561972         0.011277  \n",
       "1            0.565852            0.558895          0.562421         0.012962  \n",
       "2            0.563511            0.558259          0.562965         0.012613  \n",
       "3            0.566108            0.561412          0.564052         0.012433  \n",
       "4            0.564252            0.559621          0.562741         0.012309  \n",
       "\n",
       "[5 rows x 23 columns]"
      ]
     },
     "execution_count": 44,
     "metadata": {},
     "output_type": "execute_result"
    }
   ],
   "source": [
    "rf_results_hp.head()"
   ]
  },
  {
   "cell_type": "code",
   "execution_count": 46,
   "id": "70cba617",
   "metadata": {},
   "outputs": [
    {
     "data": {
      "text/plain": [
       "[<matplotlib.lines.Line2D at 0x1bdbaa25548>]"
      ]
     },
     "execution_count": 46,
     "metadata": {},
     "output_type": "execute_result"
    },
    {
     "data": {
      "image/png": "[encoded data removed]",
      "text/plain": [
       "<Figure size 640x480 with 1 Axes>"
      ]
     },
     "metadata": {},
     "output_type": "display_data"
    }
   ],
   "source": [
    "plt.plot(rf_results_hp['mean_train_score'])\n",
    "plt.plot(rf_results_hp['mean_test_score'])"
   ]
  },
  {
   "cell_type": "code",
   "execution_count": 48,
   "id": "7fef6bba",
   "metadata": {},
   "outputs": [],
   "source": [
    "pivot_table = rf_results_hp.pivot_table(index='param_n_estimators', \n",
    "                                        columns=['param_max_depth'], \n",
    "                                        values='mean_test_score')"
   ]
  },
  {
   "cell_type": "code",
   "execution_count": 58,
   "id": "f5591ec9",
   "metadata": {},
   "outputs": [
    {
     "data": {
      "image/png": "[encoded data removed]",
      "text/plain": [
       "<Figure size 1500x1000 with 2 Axes>"
      ]
     },
     "metadata": {},
     "output_type": "display_data"
    },
    {
     "data": {
      "text/plain": [
       "<Figure size 640x480 with 0 Axes>"
      ]
     },
     "metadata": {},
     "output_type": "display_data"
    }
   ],
   "source": [
    "# Create a heatmap of the pivot table\n",
    "plt.figure(figsize=(15,10))\n",
    "sns.heatmap(pivot_table, annot=True, fmt='.2f', cmap='YlGnBu')\n",
    "\n",
    "# Add labels and title\n",
    "plt.xlabel('Max Depth')\n",
    "plt.ylabel('Number of Estimators')\n",
    "plt.title('Random Forest Regression Grid Search Results')\n",
    "\n",
    "# Show the plot\n",
    "plt.show()\n",
    "plt.tight_layout()"
   ]
  },
  {
   "cell_type": "code",
   "execution_count": 61,
   "id": "a97ea77d",
   "metadata": {},
   "outputs": [],
   "source": [
    "y_test_pred = grid.predict(X_test_processed)"
   ]
  },
  {
   "cell_type": "code",
   "execution_count": 62,
   "id": "30071c69",
   "metadata": {},
   "outputs": [],
   "source": [
    "y_train_pred = grid.predict(X_train_processed)"
   ]
  },
  {
   "cell_type": "code",
   "execution_count": 63,
   "id": "6086bf76",
   "metadata": {},
   "outputs": [
    {
     "data": {
      "text/plain": [
       "23.623703280943943"
      ]
     },
     "execution_count": 63,
     "metadata": {},
     "output_type": "execute_result"
    }
   ],
   "source": [
    "# mean squared error\n",
    "mse_rf_hp = metrics.mean_squared_error(y_test, y_test_pred)\n",
    "mse_rf_hp"
   ]
  },
  {
   "cell_type": "code",
   "execution_count": 64,
   "id": "0f719c51",
   "metadata": {},
   "outputs": [
    {
     "data": {
      "text/plain": [
       "4.86042212991258"
      ]
     },
     "execution_count": 64,
     "metadata": {},
     "output_type": "execute_result"
    }
   ],
   "source": [
    "# root mean squared error\n",
    "rmse_rf_hp = np.sqrt(mse_rf_hp)\n",
    "rmse_rf_hp"
   ]
  },
  {
   "cell_type": "code",
   "execution_count": 65,
   "id": "f47fd25c",
   "metadata": {},
   "outputs": [
    {
     "data": {
      "text/plain": [
       "0.981592012116226"
      ]
     },
     "execution_count": 65,
     "metadata": {},
     "output_type": "execute_result"
    }
   ],
   "source": [
    "# r2 score for train data\n",
    "r2_train_rf_hp = metrics.r2_score(y_train, y_train_pred)\n",
    "r2_train_rf_hp"
   ]
  },
  {
   "cell_type": "code",
   "execution_count": 66,
   "id": "cb8bd945",
   "metadata": {},
   "outputs": [
    {
     "data": {
      "text/plain": [
       "0.9037283462156188"
      ]
     },
     "execution_count": 66,
     "metadata": {},
     "output_type": "execute_result"
    }
   ],
   "source": [
    "r2_test_rf_hp = metrics.r2_score(y_test, y_test_pred)\n",
    "r2_test_rf_hp"
   ]
  },
  {
   "cell_type": "code",
   "execution_count": 90,
   "id": "f277e102",
   "metadata": {},
   "outputs": [
    {
     "data": {
      "text/plain": [
       "0.07786366590060723"
      ]
     },
     "execution_count": 90,
     "metadata": {},
     "output_type": "execute_result"
    }
   ],
   "source": [
    "r2_diff = r2_train_rf_hp - r2_test_rf_hp\n",
    "r2_diff"
   ]
  },
  {
   "cell_type": "code",
   "execution_count": 91,
   "id": "23bc6a6e",
   "metadata": {},
   "outputs": [
    {
     "data": {
      "text/html": [
       "<div>\n",
       "<style scoped>\n",
       "    .dataframe tbody tr th:only-of-type {\n",
       "        vertical-align: middle;\n",
       "    }\n",
       "\n",
       "    .dataframe tbody tr th {\n",
       "        vertical-align: top;\n",
       "    }\n",
       "\n",
       "    .dataframe thead th {\n",
       "        text-align: right;\n",
       "    }\n",
       "</style>\n",
       "<table border=\"1\" class=\"dataframe\">\n",
       "  <thead>\n",
       "    <tr style=\"text-align: right;\">\n",
       "      <th></th>\n",
       "      <th>Algorithm</th>\n",
       "      <th>RMSE</th>\n",
       "      <th>train_R2</th>\n",
       "      <th>test_R2</th>\n",
       "      <th>diff_R2</th>\n",
       "    </tr>\n",
       "  </thead>\n",
       "  <tbody>\n",
       "    <tr>\n",
       "      <th>1</th>\n",
       "      <td>Linear Regression</td>\n",
       "      <td>7.127761</td>\n",
       "      <td>0.814293</td>\n",
       "      <td>0.792959</td>\n",
       "      <td>0.021335</td>\n",
       "    </tr>\n",
       "    <tr>\n",
       "      <th>2</th>\n",
       "      <td>Ridge</td>\n",
       "      <td>7.133896</td>\n",
       "      <td>0.813659</td>\n",
       "      <td>0.792602</td>\n",
       "      <td>0.021057</td>\n",
       "    </tr>\n",
       "    <tr>\n",
       "      <th>3</th>\n",
       "      <td>Lasso</td>\n",
       "      <td>10.171401</td>\n",
       "      <td>0.583986</td>\n",
       "      <td>0.578389</td>\n",
       "      <td>0.005597</td>\n",
       "    </tr>\n",
       "    <tr>\n",
       "      <th>4</th>\n",
       "      <td>Decision Tree</td>\n",
       "      <td>6.322161</td>\n",
       "      <td>0.995233</td>\n",
       "      <td>0.837115</td>\n",
       "      <td>0.158118</td>\n",
       "    </tr>\n",
       "    <tr>\n",
       "      <th>5</th>\n",
       "      <td>SVR</td>\n",
       "      <td>7.957428</td>\n",
       "      <td>0.778819</td>\n",
       "      <td>0.741955</td>\n",
       "      <td>0.036864</td>\n",
       "    </tr>\n",
       "    <tr>\n",
       "      <th>6</th>\n",
       "      <td>Random Forest</td>\n",
       "      <td>4.746714</td>\n",
       "      <td>0.981075</td>\n",
       "      <td>0.908180</td>\n",
       "      <td>0.072895</td>\n",
       "    </tr>\n",
       "    <tr>\n",
       "      <th>7</th>\n",
       "      <td>XGBoost</td>\n",
       "      <td>4.173695</td>\n",
       "      <td>0.994830</td>\n",
       "      <td>0.929011</td>\n",
       "      <td>0.065819</td>\n",
       "    </tr>\n",
       "    <tr>\n",
       "      <th>8</th>\n",
       "      <td>Random_Forest_hp</td>\n",
       "      <td>4.860422</td>\n",
       "      <td>0.981592</td>\n",
       "      <td>0.903728</td>\n",
       "      <td>0.077864</td>\n",
       "    </tr>\n",
       "  </tbody>\n",
       "</table>\n",
       "</div>"
      ],
      "text/plain": [
       "           Algorithm       RMSE  train_R2   test_R2   diff_R2\n",
       "1  Linear Regression   7.127761  0.814293  0.792959  0.021335\n",
       "2              Ridge   7.133896  0.813659  0.792602  0.021057\n",
       "3              Lasso  10.171401  0.583986  0.578389  0.005597\n",
       "4      Decision Tree   6.322161  0.995233  0.837115  0.158118\n",
       "5                SVR   7.957428  0.778819  0.741955  0.036864\n",
       "6      Random Forest   4.746714  0.981075  0.908180  0.072895\n",
       "7            XGBoost   4.173695  0.994830  0.929011  0.065819\n",
       "8   Random_Forest_hp   4.860422  0.981592  0.903728  0.077864"
      ]
     },
     "execution_count": 91,
     "metadata": {},
     "output_type": "execute_result"
    }
   ],
   "source": [
    "results_8 = pd.DataFrame({'Algorithm':['Random_Forest_hp'],\n",
    "                         \"RMSE\":rmse_rf_hp,\n",
    "                         \"train_R2\":r2_train_rf_hp,\n",
    "                         \"test_R2\":r2_test_rf_hp,\n",
    "                         \"diff_R2\":r2_diff}, index=[8])\n",
    "results = pd.concat([results, results_8])\n",
    "\n",
    "results = results[['Algorithm', 'RMSE', \"train_R2\", \"test_R2\", 'diff_R2']]\n",
    "results"
   ]
  },
  {
   "cell_type": "markdown",
   "id": "05ef6660",
   "metadata": {},
   "source": [
    "###  XGBoost"
   ]
  },
  {
   "cell_type": "code",
   "execution_count": 72,
   "id": "ef9674aa",
   "metadata": {},
   "outputs": [],
   "source": [
    "param_grid = {\n",
    "    \"n_estimators\": np.linspace(100, 1000, 10, dtype=int),\n",
    "    'max_depth': np.linspace(2, 30, 15, dtype=int),\n",
    "    'learning_rate': np.linspace(0.1, 1.0, 10)\n",
    "}"
   ]
  },
  {
   "cell_type": "code",
   "execution_count": 73,
   "id": "6af14976",
   "metadata": {},
   "outputs": [],
   "source": [
    "grid = GridSearchCV(estimator=XGBRegressor(),\n",
    "                    param_grid=param_grid,\n",
    "                    cv=5,\n",
    "                    return_train_score=True,\n",
    "                    verbose=4)"
   ]
  },
  {
   "cell_type": "code",
   "execution_count": 76,
   "id": "3a199fbd",
   "metadata": {},
   "outputs": [],
   "source": [
    "# grid.fit(X_train_processed, y_train)"
   ]
  },
  {
   "cell_type": "code",
   "execution_count": 78,
   "id": "eae349f4",
   "metadata": {},
   "outputs": [
    {
     "data": {
      "text/html": [
       "<style>#sk-6f6b7dfe-5198-4d8c-8280-90b4d654bcb8 {color: black;background-color: white;}#sk-6f6b7dfe-5198-4d8c-8280-90b4d654bcb8 pre{padding: 0;}#sk-6f6b7dfe-5198-4d8c-8280-90b4d654bcb8 div.sk-toggleable {background-color: white;}#sk-6f6b7dfe-5198-4d8c-8280-90b4d654bcb8 label.sk-toggleable__label {cursor: pointer;display: block;width: 100%;margin-bottom: 0;padding: 0.3em;box-sizing: border-box;text-align: center;}#sk-6f6b7dfe-5198-4d8c-8280-90b4d654bcb8 label.sk-toggleable__label-arrow:before {content: \"▸\";float: left;margin-right: 0.25em;color: #696969;}#sk-6f6b7dfe-5198-4d8c-8280-90b4d654bcb8 label.sk-toggleable__label-arrow:hover:before {color: black;}#sk-6f6b7dfe-5198-4d8c-8280-90b4d654bcb8 div.sk-estimator:hover label.sk-toggleable__label-arrow:before {color: black;}#sk-6f6b7dfe-5198-4d8c-8280-90b4d654bcb8 div.sk-toggleable__content {max-height: 0;max-width: 0;overflow: hidden;text-align: left;background-color: #f0f8ff;}#sk-6f6b7dfe-5198-4d8c-8280-90b4d654bcb8 div.sk-toggleable__content pre {margin: 0.2em;color: black;border-radius: 0.25em;background-color: #f0f8ff;}#sk-6f6b7dfe-5198-4d8c-8280-90b4d654bcb8 input.sk-toggleable__control:checked~div.sk-toggleable__content {max-height: 200px;max-width: 100%;overflow: auto;}#sk-6f6b7dfe-5198-4d8c-8280-90b4d654bcb8 input.sk-toggleable__control:checked~label.sk-toggleable__label-arrow:before {content: \"▾\";}#sk-6f6b7dfe-5198-4d8c-8280-90b4d654bcb8 div.sk-estimator input.sk-toggleable__control:checked~label.sk-toggleable__label {background-color: #d4ebff;}#sk-6f6b7dfe-5198-4d8c-8280-90b4d654bcb8 div.sk-label input.sk-toggleable__control:checked~label.sk-toggleable__label {background-color: #d4ebff;}#sk-6f6b7dfe-5198-4d8c-8280-90b4d654bcb8 input.sk-hidden--visually {border: 0;clip: rect(1px 1px 1px 1px);clip: rect(1px, 1px, 1px, 1px);height: 1px;margin: -1px;overflow: hidden;padding: 0;position: absolute;width: 1px;}#sk-6f6b7dfe-5198-4d8c-8280-90b4d654bcb8 div.sk-estimator {font-family: monospace;background-color: #f0f8ff;border: 1px dotted black;border-radius: 0.25em;box-sizing: border-box;margin-bottom: 0.5em;}#sk-6f6b7dfe-5198-4d8c-8280-90b4d654bcb8 div.sk-estimator:hover {background-color: #d4ebff;}#sk-6f6b7dfe-5198-4d8c-8280-90b4d654bcb8 div.sk-parallel-item::after {content: \"\";width: 100%;border-bottom: 1px solid gray;flex-grow: 1;}#sk-6f6b7dfe-5198-4d8c-8280-90b4d654bcb8 div.sk-label:hover label.sk-toggleable__label {background-color: #d4ebff;}#sk-6f6b7dfe-5198-4d8c-8280-90b4d654bcb8 div.sk-serial::before {content: \"\";position: absolute;border-left: 1px solid gray;box-sizing: border-box;top: 2em;bottom: 0;left: 50%;}#sk-6f6b7dfe-5198-4d8c-8280-90b4d654bcb8 div.sk-serial {display: flex;flex-direction: column;align-items: center;background-color: white;padding-right: 0.2em;padding-left: 0.2em;}#sk-6f6b7dfe-5198-4d8c-8280-90b4d654bcb8 div.sk-item {z-index: 1;}#sk-6f6b7dfe-5198-4d8c-8280-90b4d654bcb8 div.sk-parallel {display: flex;align-items: stretch;justify-content: center;background-color: white;}#sk-6f6b7dfe-5198-4d8c-8280-90b4d654bcb8 div.sk-parallel::before {content: \"\";position: absolute;border-left: 1px solid gray;box-sizing: border-box;top: 2em;bottom: 0;left: 50%;}#sk-6f6b7dfe-5198-4d8c-8280-90b4d654bcb8 div.sk-parallel-item {display: flex;flex-direction: column;position: relative;background-color: white;}#sk-6f6b7dfe-5198-4d8c-8280-90b4d654bcb8 div.sk-parallel-item:first-child::after {align-self: flex-end;width: 50%;}#sk-6f6b7dfe-5198-4d8c-8280-90b4d654bcb8 div.sk-parallel-item:last-child::after {align-self: flex-start;width: 50%;}#sk-6f6b7dfe-5198-4d8c-8280-90b4d654bcb8 div.sk-parallel-item:only-child::after {width: 0;}#sk-6f6b7dfe-5198-4d8c-8280-90b4d654bcb8 div.sk-dashed-wrapped {border: 1px dashed gray;margin: 0 0.4em 0.5em 0.4em;box-sizing: border-box;padding-bottom: 0.4em;background-color: white;position: relative;}#sk-6f6b7dfe-5198-4d8c-8280-90b4d654bcb8 div.sk-label label {font-family: monospace;font-weight: bold;background-color: white;display: inline-block;line-height: 1.2em;}#sk-6f6b7dfe-5198-4d8c-8280-90b4d654bcb8 div.sk-label-container {position: relative;z-index: 2;text-align: center;}#sk-6f6b7dfe-5198-4d8c-8280-90b4d654bcb8 div.sk-container {/* jupyter's `normalize.less` sets `[hidden] { display: none; }` but bootstrap.min.css set `[hidden] { display: none !important; }` so we also need the `!important` here to be able to override the default hidden behavior on the sphinx rendered scikit-learn.org. See: https://github.com/scikit-learn/scikit-learn/issues/21755 */display: inline-block !important;position: relative;}#sk-6f6b7dfe-5198-4d8c-8280-90b4d654bcb8 div.sk-text-repr-fallback {display: none;}</style><div id=\"sk-6f6b7dfe-5198-4d8c-8280-90b4d654bcb8\" class=\"sk-top-container\"><div class=\"sk-text-repr-fallback\"><pre>XGBRegressor(base_score=0.5, booster=&#x27;gbtree&#x27;, callbacks=None,\n",
       "             colsample_bylevel=1, colsample_bynode=1, colsample_bytree=1,\n",
       "             early_stopping_rounds=None, enable_categorical=False,\n",
       "             eval_metric=None, gamma=0, gpu_id=-1, grow_policy=&#x27;depthwise&#x27;,\n",
       "             importance_type=None, interaction_constraints=&#x27;&#x27;,\n",
       "             learning_rate=0.1, max_bin=256, max_cat_to_onehot=4,\n",
       "             max_delta_step=0, max_depth=2, max_leaves=0, min_child_weight=1,\n",
       "             missing=nan, monotone_constraints=&#x27;()&#x27;, n_estimators=1000,\n",
       "             n_jobs=0, num_parallel_tree=1, predictor=&#x27;auto&#x27;, random_state=0,\n",
       "             reg_alpha=0, reg_lambda=1, ...)</pre><b>Please rerun this cell to show the HTML repr or trust the notebook.</b></div><div class=\"sk-container\" hidden><div class=\"sk-item\"><div class=\"sk-estimator sk-toggleable\"><input class=\"sk-toggleable__control sk-hidden--visually\" id=\"4ff77906-3f4b-415a-9803-e21ea086523f\" type=\"checkbox\" checked><label for=\"4ff77906-3f4b-415a-9803-e21ea086523f\" class=\"sk-toggleable__label sk-toggleable__label-arrow\">XGBRegressor</label><div class=\"sk-toggleable__content\"><pre>XGBRegressor(base_score=0.5, booster=&#x27;gbtree&#x27;, callbacks=None,\n",
       "             colsample_bylevel=1, colsample_bynode=1, colsample_bytree=1,\n",
       "             early_stopping_rounds=None, enable_categorical=False,\n",
       "             eval_metric=None, gamma=0, gpu_id=-1, grow_policy=&#x27;depthwise&#x27;,\n",
       "             importance_type=None, interaction_constraints=&#x27;&#x27;,\n",
       "             learning_rate=0.1, max_bin=256, max_cat_to_onehot=4,\n",
       "             max_delta_step=0, max_depth=2, max_leaves=0, min_child_weight=1,\n",
       "             missing=nan, monotone_constraints=&#x27;()&#x27;, n_estimators=1000,\n",
       "             n_jobs=0, num_parallel_tree=1, predictor=&#x27;auto&#x27;, random_state=0,\n",
       "             reg_alpha=0, reg_lambda=1, ...)</pre></div></div></div></div></div>"
      ],
      "text/plain": [
       "XGBRegressor(base_score=0.5, booster='gbtree', callbacks=None,\n",
       "             colsample_bylevel=1, colsample_bynode=1, colsample_bytree=1,\n",
       "             early_stopping_rounds=None, enable_categorical=False,\n",
       "             eval_metric=None, gamma=0, gpu_id=-1, grow_policy='depthwise',\n",
       "             importance_type=None, interaction_constraints='',\n",
       "             learning_rate=0.1, max_bin=256, max_cat_to_onehot=4,\n",
       "             max_delta_step=0, max_depth=2, max_leaves=0, min_child_weight=1,\n",
       "             missing=nan, monotone_constraints='()', n_estimators=1000,\n",
       "             n_jobs=0, num_parallel_tree=1, predictor='auto', random_state=0,\n",
       "             reg_alpha=0, reg_lambda=1, ...)"
      ]
     },
     "execution_count": 78,
     "metadata": {},
     "output_type": "execute_result"
    }
   ],
   "source": [
    "grid.best_estimator_"
   ]
  },
  {
   "cell_type": "code",
   "execution_count": 77,
   "id": "110eb788",
   "metadata": {},
   "outputs": [
    {
     "data": {
      "text/plain": [
       "{'learning_rate': 0.1, 'max_depth': 2, 'n_estimators': 1000}"
      ]
     },
     "execution_count": 77,
     "metadata": {},
     "output_type": "execute_result"
    }
   ],
   "source": [
    "# best paramters\n",
    "grid.best_params_"
   ]
  },
  {
   "cell_type": "code",
   "execution_count": 79,
   "id": "c70e47a1",
   "metadata": {},
   "outputs": [],
   "source": [
    "y_test_pred = grid.predict(X_test_processed)"
   ]
  },
  {
   "cell_type": "code",
   "execution_count": 80,
   "id": "2209d872",
   "metadata": {},
   "outputs": [],
   "source": [
    "y_train_pred = grid.predict(X_train_processed)"
   ]
  },
  {
   "cell_type": "code",
   "execution_count": 81,
   "id": "2b3481c2",
   "metadata": {},
   "outputs": [
    {
     "data": {
      "text/plain": [
       "16.07861357070288"
      ]
     },
     "execution_count": 81,
     "metadata": {},
     "output_type": "execute_result"
    }
   ],
   "source": [
    "# mean squared error\n",
    "mse_xg_hp = metrics.mean_squared_error(y_test, y_test_pred)\n",
    "mse_xg_hp"
   ]
  },
  {
   "cell_type": "code",
   "execution_count": 82,
   "id": "5a74d5d8",
   "metadata": {},
   "outputs": [
    {
     "data": {
      "text/plain": [
       "4.00981465540527"
      ]
     },
     "execution_count": 82,
     "metadata": {},
     "output_type": "execute_result"
    }
   ],
   "source": [
    "# root mean squared error\n",
    "rmse_xg_hp = np.sqrt(mse_xg_hp)\n",
    "rmse_xg_hp"
   ]
  },
  {
   "cell_type": "code",
   "execution_count": 83,
   "id": "a3d7460d",
   "metadata": {},
   "outputs": [
    {
     "data": {
      "text/plain": [
       "0.9741111405905741"
      ]
     },
     "execution_count": 83,
     "metadata": {},
     "output_type": "execute_result"
    }
   ],
   "source": [
    "# r2 score for train data\n",
    "r2_train_xg_hp = metrics.r2_score(y_train, y_train_pred)\n",
    "r2_train_xg_hp"
   ]
  },
  {
   "cell_type": "code",
   "execution_count": 84,
   "id": "c17744bf",
   "metadata": {},
   "outputs": [
    {
     "data": {
      "text/plain": [
       "0.9344762038109331"
      ]
     },
     "execution_count": 84,
     "metadata": {},
     "output_type": "execute_result"
    }
   ],
   "source": [
    "r2_test_xg_hp = metrics.r2_score(y_test, y_test_pred)\n",
    "r2_test_xg_hp"
   ]
  },
  {
   "cell_type": "code",
   "execution_count": 92,
   "id": "8e26b8f1",
   "metadata": {},
   "outputs": [
    {
     "data": {
      "text/plain": [
       "0.03963493677964103"
      ]
     },
     "execution_count": 92,
     "metadata": {},
     "output_type": "execute_result"
    }
   ],
   "source": [
    "r2_diff = r2_train_xg_hp - r2_test_xg_hp\n",
    "r2_diff"
   ]
  },
  {
   "cell_type": "code",
   "execution_count": 87,
   "id": "1674a23f",
   "metadata": {},
   "outputs": [],
   "source": [
    "xg_results_hp = pd.DataFrame(grid.cv_results_)"
   ]
  },
  {
   "cell_type": "code",
   "execution_count": 88,
   "id": "b42b4297",
   "metadata": {},
   "outputs": [
    {
     "data": {
      "text/html": [
       "<div>\n",
       "<style scoped>\n",
       "    .dataframe tbody tr th:only-of-type {\n",
       "        vertical-align: middle;\n",
       "    }\n",
       "\n",
       "    .dataframe tbody tr th {\n",
       "        vertical-align: top;\n",
       "    }\n",
       "\n",
       "    .dataframe thead th {\n",
       "        text-align: right;\n",
       "    }\n",
       "</style>\n",
       "<table border=\"1\" class=\"dataframe\">\n",
       "  <thead>\n",
       "    <tr style=\"text-align: right;\">\n",
       "      <th></th>\n",
       "      <th>mean_fit_time</th>\n",
       "      <th>std_fit_time</th>\n",
       "      <th>mean_score_time</th>\n",
       "      <th>std_score_time</th>\n",
       "      <th>param_learning_rate</th>\n",
       "      <th>param_max_depth</th>\n",
       "      <th>param_n_estimators</th>\n",
       "      <th>params</th>\n",
       "      <th>split0_test_score</th>\n",
       "      <th>split1_test_score</th>\n",
       "      <th>...</th>\n",
       "      <th>mean_test_score</th>\n",
       "      <th>std_test_score</th>\n",
       "      <th>rank_test_score</th>\n",
       "      <th>split0_train_score</th>\n",
       "      <th>split1_train_score</th>\n",
       "      <th>split2_train_score</th>\n",
       "      <th>split3_train_score</th>\n",
       "      <th>split4_train_score</th>\n",
       "      <th>mean_train_score</th>\n",
       "      <th>std_train_score</th>\n",
       "    </tr>\n",
       "  </thead>\n",
       "  <tbody>\n",
       "    <tr>\n",
       "      <th>0</th>\n",
       "      <td>0.068742</td>\n",
       "      <td>0.007646</td>\n",
       "      <td>0.003125</td>\n",
       "      <td>0.006249</td>\n",
       "      <td>0.1</td>\n",
       "      <td>2</td>\n",
       "      <td>100</td>\n",
       "      <td>{'learning_rate': 0.1, 'max_depth': 2, 'n_esti...</td>\n",
       "      <td>0.845801</td>\n",
       "      <td>0.863651</td>\n",
       "      <td>...</td>\n",
       "      <td>0.864191</td>\n",
       "      <td>0.021417</td>\n",
       "      <td>839</td>\n",
       "      <td>0.912633</td>\n",
       "      <td>0.911491</td>\n",
       "      <td>0.907359</td>\n",
       "      <td>0.909484</td>\n",
       "      <td>0.910928</td>\n",
       "      <td>0.910379</td>\n",
       "      <td>0.001819</td>\n",
       "    </tr>\n",
       "    <tr>\n",
       "      <th>1</th>\n",
       "      <td>0.103127</td>\n",
       "      <td>0.007653</td>\n",
       "      <td>0.006249</td>\n",
       "      <td>0.007653</td>\n",
       "      <td>0.1</td>\n",
       "      <td>2</td>\n",
       "      <td>200</td>\n",
       "      <td>{'learning_rate': 0.1, 'max_depth': 2, 'n_esti...</td>\n",
       "      <td>0.881255</td>\n",
       "      <td>0.894253</td>\n",
       "      <td>...</td>\n",
       "      <td>0.891502</td>\n",
       "      <td>0.018135</td>\n",
       "      <td>359</td>\n",
       "      <td>0.942505</td>\n",
       "      <td>0.946081</td>\n",
       "      <td>0.942782</td>\n",
       "      <td>0.942557</td>\n",
       "      <td>0.944152</td>\n",
       "      <td>0.943615</td>\n",
       "      <td>0.001372</td>\n",
       "    </tr>\n",
       "    <tr>\n",
       "      <th>2</th>\n",
       "      <td>0.174998</td>\n",
       "      <td>0.011692</td>\n",
       "      <td>0.006250</td>\n",
       "      <td>0.007655</td>\n",
       "      <td>0.1</td>\n",
       "      <td>2</td>\n",
       "      <td>300</td>\n",
       "      <td>{'learning_rate': 0.1, 'max_depth': 2, 'n_esti...</td>\n",
       "      <td>0.898099</td>\n",
       "      <td>0.903551</td>\n",
       "      <td>...</td>\n",
       "      <td>0.901832</td>\n",
       "      <td>0.015996</td>\n",
       "      <td>73</td>\n",
       "      <td>0.955026</td>\n",
       "      <td>0.959070</td>\n",
       "      <td>0.956522</td>\n",
       "      <td>0.955767</td>\n",
       "      <td>0.957021</td>\n",
       "      <td>0.956681</td>\n",
       "      <td>0.001373</td>\n",
       "    </tr>\n",
       "    <tr>\n",
       "      <th>3</th>\n",
       "      <td>0.228122</td>\n",
       "      <td>0.012497</td>\n",
       "      <td>0.006253</td>\n",
       "      <td>0.007659</td>\n",
       "      <td>0.1</td>\n",
       "      <td>2</td>\n",
       "      <td>400</td>\n",
       "      <td>{'learning_rate': 0.1, 'max_depth': 2, 'n_esti...</td>\n",
       "      <td>0.906487</td>\n",
       "      <td>0.906489</td>\n",
       "      <td>...</td>\n",
       "      <td>0.905783</td>\n",
       "      <td>0.015752</td>\n",
       "      <td>32</td>\n",
       "      <td>0.962084</td>\n",
       "      <td>0.966356</td>\n",
       "      <td>0.963634</td>\n",
       "      <td>0.962490</td>\n",
       "      <td>0.963487</td>\n",
       "      <td>0.963610</td>\n",
       "      <td>0.001493</td>\n",
       "    </tr>\n",
       "    <tr>\n",
       "      <th>4</th>\n",
       "      <td>0.268750</td>\n",
       "      <td>0.006250</td>\n",
       "      <td>0.006250</td>\n",
       "      <td>0.007655</td>\n",
       "      <td>0.1</td>\n",
       "      <td>2</td>\n",
       "      <td>500</td>\n",
       "      <td>{'learning_rate': 0.1, 'max_depth': 2, 'n_esti...</td>\n",
       "      <td>0.911377</td>\n",
       "      <td>0.908529</td>\n",
       "      <td>...</td>\n",
       "      <td>0.907834</td>\n",
       "      <td>0.015931</td>\n",
       "      <td>18</td>\n",
       "      <td>0.966312</td>\n",
       "      <td>0.971035</td>\n",
       "      <td>0.968180</td>\n",
       "      <td>0.966899</td>\n",
       "      <td>0.967717</td>\n",
       "      <td>0.968029</td>\n",
       "      <td>0.001636</td>\n",
       "    </tr>\n",
       "  </tbody>\n",
       "</table>\n",
       "<p>5 rows × 23 columns</p>\n",
       "</div>"
      ],
      "text/plain": [
       "   mean_fit_time  std_fit_time  mean_score_time  std_score_time  \\\n",
       "0       0.068742      0.007646         0.003125        0.006249   \n",
       "1       0.103127      0.007653         0.006249        0.007653   \n",
       "2       0.174998      0.011692         0.006250        0.007655   \n",
       "3       0.228122      0.012497         0.006253        0.007659   \n",
       "4       0.268750      0.006250         0.006250        0.007655   \n",
       "\n",
       "  param_learning_rate param_max_depth param_n_estimators  \\\n",
       "0                 0.1               2                100   \n",
       "1                 0.1               2                200   \n",
       "2                 0.1               2                300   \n",
       "3                 0.1               2                400   \n",
       "4                 0.1               2                500   \n",
       "\n",
       "                                              params  split0_test_score  \\\n",
       "0  {'learning_rate': 0.1, 'max_depth': 2, 'n_esti...           0.845801   \n",
       "1  {'learning_rate': 0.1, 'max_depth': 2, 'n_esti...           0.881255   \n",
       "2  {'learning_rate': 0.1, 'max_depth': 2, 'n_esti...           0.898099   \n",
       "3  {'learning_rate': 0.1, 'max_depth': 2, 'n_esti...           0.906487   \n",
       "4  {'learning_rate': 0.1, 'max_depth': 2, 'n_esti...           0.911377   \n",
       "\n",
       "   split1_test_score  ...  mean_test_score  std_test_score  rank_test_score  \\\n",
       "0           0.863651  ...         0.864191        0.021417              839   \n",
       "1           0.894253  ...         0.891502        0.018135              359   \n",
       "2           0.903551  ...         0.901832        0.015996               73   \n",
       "3           0.906489  ...         0.905783        0.015752               32   \n",
       "4           0.908529  ...         0.907834        0.015931               18   \n",
       "\n",
       "   split0_train_score  split1_train_score  split2_train_score  \\\n",
       "0            0.912633            0.911491            0.907359   \n",
       "1            0.942505            0.946081            0.942782   \n",
       "2            0.955026            0.959070            0.956522   \n",
       "3            0.962084            0.966356            0.963634   \n",
       "4            0.966312            0.971035            0.968180   \n",
       "\n",
       "   split3_train_score  split4_train_score  mean_train_score  std_train_score  \n",
       "0            0.909484            0.910928          0.910379         0.001819  \n",
       "1            0.942557            0.944152          0.943615         0.001372  \n",
       "2            0.955767            0.957021          0.956681         0.001373  \n",
       "3            0.962490            0.963487          0.963610         0.001493  \n",
       "4            0.966899            0.967717          0.968029         0.001636  \n",
       "\n",
       "[5 rows x 23 columns]"
      ]
     },
     "execution_count": 88,
     "metadata": {},
     "output_type": "execute_result"
    }
   ],
   "source": [
    "xg_results_hp.head()"
   ]
  },
  {
   "cell_type": "code",
   "execution_count": 89,
   "id": "cc713082",
   "metadata": {},
   "outputs": [
    {
     "data": {
      "text/plain": [
       "[<matplotlib.lines.Line2D at 0x1bdbb34cbc8>]"
      ]
     },
     "execution_count": 89,
     "metadata": {},
     "output_type": "execute_result"
    },
    {
     "data": {
      "image/png": "[encoded data removed]",
      "text/plain": [
       "<Figure size 640x480 with 1 Axes>"
      ]
     },
     "metadata": {},
     "output_type": "display_data"
    }
   ],
   "source": [
    "plt.plot(xg_results_hp['mean_train_score'])\n",
    "plt.plot(xg_results_hp['mean_test_score'])"
   ]
  },
  {
   "cell_type": "code",
   "execution_count": 134,
   "id": "7e3bded4",
   "metadata": {},
   "outputs": [],
   "source": [
    "pivot_table = xg_results_hp.pivot_table(index='param_n_estimators', \n",
    "                                        columns=['param_max_depth'], \n",
    "                                        values='mean_test_score')"
   ]
  },
  {
   "cell_type": "code",
   "execution_count": 136,
   "id": "831eac9d",
   "metadata": {},
   "outputs": [
    {
     "data": {
      "image/png": "[encoded data removed]",
      "text/plain": [
       "<Figure size 1500x1000 with 2 Axes>"
      ]
     },
     "metadata": {},
     "output_type": "display_data"
    },
    {
     "data": {
      "text/plain": [
       "<Figure size 640x480 with 0 Axes>"
      ]
     },
     "metadata": {},
     "output_type": "display_data"
    }
   ],
   "source": [
    "# Create a heatmap of the pivot table\n",
    "plt.figure(figsize=(15,10))\n",
    "sns.heatmap(pivot_table, annot=True, fmt='.2f', cmap='YlGnBu')\n",
    "\n",
    "# Add labels and title\n",
    "plt.xlabel('Max Depth')\n",
    "plt.ylabel('Number of Estimators')\n",
    "plt.title('XGBoost Grid Search Results')\n",
    "\n",
    "# Show the plot\n",
    "plt.show()\n",
    "plt.tight_layout()"
   ]
  },
  {
   "cell_type": "code",
   "execution_count": 93,
   "id": "af967fa2",
   "metadata": {},
   "outputs": [
    {
     "data": {
      "text/html": [
       "<div>\n",
       "<style scoped>\n",
       "    .dataframe tbody tr th:only-of-type {\n",
       "        vertical-align: middle;\n",
       "    }\n",
       "\n",
       "    .dataframe tbody tr th {\n",
       "        vertical-align: top;\n",
       "    }\n",
       "\n",
       "    .dataframe thead th {\n",
       "        text-align: right;\n",
       "    }\n",
       "</style>\n",
       "<table border=\"1\" class=\"dataframe\">\n",
       "  <thead>\n",
       "    <tr style=\"text-align: right;\">\n",
       "      <th></th>\n",
       "      <th>Algorithm</th>\n",
       "      <th>RMSE</th>\n",
       "      <th>train_R2</th>\n",
       "      <th>test_R2</th>\n",
       "      <th>diff_R2</th>\n",
       "    </tr>\n",
       "  </thead>\n",
       "  <tbody>\n",
       "    <tr>\n",
       "      <th>1</th>\n",
       "      <td>Linear Regression</td>\n",
       "      <td>7.127761</td>\n",
       "      <td>0.814293</td>\n",
       "      <td>0.792959</td>\n",
       "      <td>0.021335</td>\n",
       "    </tr>\n",
       "    <tr>\n",
       "      <th>2</th>\n",
       "      <td>Ridge</td>\n",
       "      <td>7.133896</td>\n",
       "      <td>0.813659</td>\n",
       "      <td>0.792602</td>\n",
       "      <td>0.021057</td>\n",
       "    </tr>\n",
       "    <tr>\n",
       "      <th>3</th>\n",
       "      <td>Lasso</td>\n",
       "      <td>10.171401</td>\n",
       "      <td>0.583986</td>\n",
       "      <td>0.578389</td>\n",
       "      <td>0.005597</td>\n",
       "    </tr>\n",
       "    <tr>\n",
       "      <th>4</th>\n",
       "      <td>Decision Tree</td>\n",
       "      <td>6.322161</td>\n",
       "      <td>0.995233</td>\n",
       "      <td>0.837115</td>\n",
       "      <td>0.158118</td>\n",
       "    </tr>\n",
       "    <tr>\n",
       "      <th>5</th>\n",
       "      <td>SVR</td>\n",
       "      <td>7.957428</td>\n",
       "      <td>0.778819</td>\n",
       "      <td>0.741955</td>\n",
       "      <td>0.036864</td>\n",
       "    </tr>\n",
       "    <tr>\n",
       "      <th>6</th>\n",
       "      <td>Random Forest</td>\n",
       "      <td>4.746714</td>\n",
       "      <td>0.981075</td>\n",
       "      <td>0.908180</td>\n",
       "      <td>0.072895</td>\n",
       "    </tr>\n",
       "    <tr>\n",
       "      <th>7</th>\n",
       "      <td>XGBoost</td>\n",
       "      <td>4.173695</td>\n",
       "      <td>0.994830</td>\n",
       "      <td>0.929011</td>\n",
       "      <td>0.065819</td>\n",
       "    </tr>\n",
       "    <tr>\n",
       "      <th>8</th>\n",
       "      <td>Random_Forest_hp</td>\n",
       "      <td>4.860422</td>\n",
       "      <td>0.981592</td>\n",
       "      <td>0.903728</td>\n",
       "      <td>0.077864</td>\n",
       "    </tr>\n",
       "    <tr>\n",
       "      <th>9</th>\n",
       "      <td>XGBoost_hp</td>\n",
       "      <td>4.009815</td>\n",
       "      <td>0.974111</td>\n",
       "      <td>0.934476</td>\n",
       "      <td>0.039635</td>\n",
       "    </tr>\n",
       "  </tbody>\n",
       "</table>\n",
       "</div>"
      ],
      "text/plain": [
       "           Algorithm       RMSE  train_R2   test_R2   diff_R2\n",
       "1  Linear Regression   7.127761  0.814293  0.792959  0.021335\n",
       "2              Ridge   7.133896  0.813659  0.792602  0.021057\n",
       "3              Lasso  10.171401  0.583986  0.578389  0.005597\n",
       "4      Decision Tree   6.322161  0.995233  0.837115  0.158118\n",
       "5                SVR   7.957428  0.778819  0.741955  0.036864\n",
       "6      Random Forest   4.746714  0.981075  0.908180  0.072895\n",
       "7            XGBoost   4.173695  0.994830  0.929011  0.065819\n",
       "8   Random_Forest_hp   4.860422  0.981592  0.903728  0.077864\n",
       "9         XGBoost_hp   4.009815  0.974111  0.934476  0.039635"
      ]
     },
     "execution_count": 93,
     "metadata": {},
     "output_type": "execute_result"
    }
   ],
   "source": [
    "results_9 = pd.DataFrame({'Algorithm':['XGBoost_hp'],\n",
    "                         \"RMSE\":rmse_xg_hp,\n",
    "                         \"train_R2\":r2_train_xg_hp,\n",
    "                         \"test_R2\":r2_test_xg_hp,\n",
    "                         \"diff_R2\":r2_diff}, index=[9])\n",
    "results = pd.concat([results, results_9])\n",
    "\n",
    "results = results[['Algorithm', 'RMSE', \"train_R2\", \"test_R2\", 'diff_R2']]\n",
    "results"
   ]
  },
  {
   "cell_type": "code",
   "execution_count": 95,
   "id": "ef60266b",
   "metadata": {},
   "outputs": [
    {
     "data": {
      "text/html": [
       "<div>\n",
       "<style scoped>\n",
       "    .dataframe tbody tr th:only-of-type {\n",
       "        vertical-align: middle;\n",
       "    }\n",
       "\n",
       "    .dataframe tbody tr th {\n",
       "        vertical-align: top;\n",
       "    }\n",
       "\n",
       "    .dataframe thead th {\n",
       "        text-align: right;\n",
       "    }\n",
       "</style>\n",
       "<table border=\"1\" class=\"dataframe\">\n",
       "  <thead>\n",
       "    <tr style=\"text-align: right;\">\n",
       "      <th></th>\n",
       "      <th>Algorithm</th>\n",
       "      <th>RMSE</th>\n",
       "      <th>train_R2</th>\n",
       "      <th>test_R2</th>\n",
       "      <th>diff_R2</th>\n",
       "    </tr>\n",
       "  </thead>\n",
       "  <tbody>\n",
       "    <tr>\n",
       "      <th>9</th>\n",
       "      <td>XGBoost_hp</td>\n",
       "      <td>4.009815</td>\n",
       "      <td>0.974111</td>\n",
       "      <td>0.934476</td>\n",
       "      <td>0.039635</td>\n",
       "    </tr>\n",
       "    <tr>\n",
       "      <th>7</th>\n",
       "      <td>XGBoost</td>\n",
       "      <td>4.173695</td>\n",
       "      <td>0.994830</td>\n",
       "      <td>0.929011</td>\n",
       "      <td>0.065819</td>\n",
       "    </tr>\n",
       "    <tr>\n",
       "      <th>6</th>\n",
       "      <td>Random Forest</td>\n",
       "      <td>4.746714</td>\n",
       "      <td>0.981075</td>\n",
       "      <td>0.908180</td>\n",
       "      <td>0.072895</td>\n",
       "    </tr>\n",
       "    <tr>\n",
       "      <th>8</th>\n",
       "      <td>Random_Forest_hp</td>\n",
       "      <td>4.860422</td>\n",
       "      <td>0.981592</td>\n",
       "      <td>0.903728</td>\n",
       "      <td>0.077864</td>\n",
       "    </tr>\n",
       "    <tr>\n",
       "      <th>4</th>\n",
       "      <td>Decision Tree</td>\n",
       "      <td>6.322161</td>\n",
       "      <td>0.995233</td>\n",
       "      <td>0.837115</td>\n",
       "      <td>0.158118</td>\n",
       "    </tr>\n",
       "    <tr>\n",
       "      <th>1</th>\n",
       "      <td>Linear Regression</td>\n",
       "      <td>7.127761</td>\n",
       "      <td>0.814293</td>\n",
       "      <td>0.792959</td>\n",
       "      <td>0.021335</td>\n",
       "    </tr>\n",
       "    <tr>\n",
       "      <th>2</th>\n",
       "      <td>Ridge</td>\n",
       "      <td>7.133896</td>\n",
       "      <td>0.813659</td>\n",
       "      <td>0.792602</td>\n",
       "      <td>0.021057</td>\n",
       "    </tr>\n",
       "    <tr>\n",
       "      <th>5</th>\n",
       "      <td>SVR</td>\n",
       "      <td>7.957428</td>\n",
       "      <td>0.778819</td>\n",
       "      <td>0.741955</td>\n",
       "      <td>0.036864</td>\n",
       "    </tr>\n",
       "    <tr>\n",
       "      <th>3</th>\n",
       "      <td>Lasso</td>\n",
       "      <td>10.171401</td>\n",
       "      <td>0.583986</td>\n",
       "      <td>0.578389</td>\n",
       "      <td>0.005597</td>\n",
       "    </tr>\n",
       "  </tbody>\n",
       "</table>\n",
       "</div>"
      ],
      "text/plain": [
       "           Algorithm       RMSE  train_R2   test_R2   diff_R2\n",
       "9         XGBoost_hp   4.009815  0.974111  0.934476  0.039635\n",
       "7            XGBoost   4.173695  0.994830  0.929011  0.065819\n",
       "6      Random Forest   4.746714  0.981075  0.908180  0.072895\n",
       "8   Random_Forest_hp   4.860422  0.981592  0.903728  0.077864\n",
       "4      Decision Tree   6.322161  0.995233  0.837115  0.158118\n",
       "1  Linear Regression   7.127761  0.814293  0.792959  0.021335\n",
       "2              Ridge   7.133896  0.813659  0.792602  0.021057\n",
       "5                SVR   7.957428  0.778819  0.741955  0.036864\n",
       "3              Lasso  10.171401  0.583986  0.578389  0.005597"
      ]
     },
     "execution_count": 95,
     "metadata": {},
     "output_type": "execute_result"
    }
   ],
   "source": [
    "results.sort_values(by=['test_R2', 'train_R2','diff_R2',\"RMSE\"],\n",
    "                    ascending=[False, False, True, True])"
   ]
  },
  {
   "cell_type": "code",
   "execution_count": 142,
   "id": "4990f2ad",
   "metadata": {},
   "outputs": [
    {
     "data": {
      "image/png": "[encoded data removed]",
      "text/plain": [
       "<Figure size 1200x800 with 1 Axes>"
      ]
     },
     "metadata": {},
     "output_type": "display_data"
    }
   ],
   "source": [
    "model_names = list(results['Algorithm'])\n",
    "fig, ax = plt.subplots(figsize=(12,8))\n",
    "ax.plot(results['train_R2'], '*--', linewidth=2, label='train')\n",
    "ax.plot(results['test_R2'], '*--', linewidth=2, label='test')\n",
    "ax.set_xticks([1,2,3,4,5,6,7,8,9], model_names, rotation='45')\n",
    "ax.legend()\n",
    "ax.set_title('R2_Score')\n",
    "plt.tight_layout();"
   ]
  },
  {
   "cell_type": "code",
   "execution_count": 144,
   "id": "c11af11d",
   "metadata": {},
   "outputs": [
    {
     "data": {
      "image/png": "[encoded data removed]",
      "text/plain": [
       "<Figure size 1200x800 with 1 Axes>"
      ]
     },
     "metadata": {},
     "output_type": "display_data"
    }
   ],
   "source": [
    "model_names = list(results['Algorithm'])\n",
    "fig, ax = plt.subplots(figsize=(12, 8))\n",
    "ax.plot(results['RMSE'],'*--', label='RMSE')\n",
    "ax.set_xticks([1,2,3,4,5,6,7,8,9], model_names, rotation='45')\n",
    "ax.set_title('Root Mean Squared Error')\n",
    "ax.legend()\n",
    "plt.tight_layout();"
   ]
  },
  {
   "cell_type": "markdown",
   "id": "a6f3249f",
   "metadata": {},
   "source": [
    "## Conclusion"
   ]
  },
  {
   "cell_type": "markdown",
   "id": "70a85529",
   "metadata": {},
   "source": [
    "**Problem Statement**: Predict the Concrete Compressive Strength by testing various models and selecting best from those models."
   ]
  },
  {
   "cell_type": "markdown",
   "id": "c5803e48",
   "metadata": {},
   "source": [
    "At first, we tested 7 models, and we selected 2 best models (random forest, and xgboost) and performed hyperparameter tuning on them along with cross validation."
   ]
  },
  {
   "cell_type": "markdown",
   "id": "0649349f",
   "metadata": {},
   "source": [
    "**Best estimators for random forest**: \n",
    "\n",
    "{'criterion': 'mse', 'max_depth': 20.0, 'n_estimators': 100}"
   ]
  },
  {
   "cell_type": "markdown",
   "id": "a62250c0",
   "metadata": {},
   "source": [
    "**Best estimators for XGBoost**:\n",
    "\n",
    "{'learning_rate': 0.1, 'max_depth': 2, 'n_estimators': 1000}"
   ]
  },
  {
   "cell_type": "code",
   "execution_count": 137,
   "id": "8bea6632",
   "metadata": {},
   "outputs": [
    {
     "data": {
      "text/html": [
       "<div>\n",
       "<style scoped>\n",
       "    .dataframe tbody tr th:only-of-type {\n",
       "        vertical-align: middle;\n",
       "    }\n",
       "\n",
       "    .dataframe tbody tr th {\n",
       "        vertical-align: top;\n",
       "    }\n",
       "\n",
       "    .dataframe thead th {\n",
       "        text-align: right;\n",
       "    }\n",
       "</style>\n",
       "<table border=\"1\" class=\"dataframe\">\n",
       "  <thead>\n",
       "    <tr style=\"text-align: right;\">\n",
       "      <th></th>\n",
       "      <th>Algorithm</th>\n",
       "      <th>RMSE</th>\n",
       "      <th>train_R2</th>\n",
       "      <th>test_R2</th>\n",
       "      <th>diff_R2</th>\n",
       "    </tr>\n",
       "  </thead>\n",
       "  <tbody>\n",
       "    <tr>\n",
       "      <th>9</th>\n",
       "      <td>XGBoost_hp</td>\n",
       "      <td>4.009815</td>\n",
       "      <td>0.974111</td>\n",
       "      <td>0.934476</td>\n",
       "      <td>0.039635</td>\n",
       "    </tr>\n",
       "    <tr>\n",
       "      <th>7</th>\n",
       "      <td>XGBoost</td>\n",
       "      <td>4.173695</td>\n",
       "      <td>0.994830</td>\n",
       "      <td>0.929011</td>\n",
       "      <td>0.065819</td>\n",
       "    </tr>\n",
       "    <tr>\n",
       "      <th>6</th>\n",
       "      <td>Random Forest</td>\n",
       "      <td>4.746714</td>\n",
       "      <td>0.981075</td>\n",
       "      <td>0.908180</td>\n",
       "      <td>0.072895</td>\n",
       "    </tr>\n",
       "    <tr>\n",
       "      <th>8</th>\n",
       "      <td>Random_Forest_hp</td>\n",
       "      <td>4.860422</td>\n",
       "      <td>0.981592</td>\n",
       "      <td>0.903728</td>\n",
       "      <td>0.077864</td>\n",
       "    </tr>\n",
       "    <tr>\n",
       "      <th>4</th>\n",
       "      <td>Decision Tree</td>\n",
       "      <td>6.322161</td>\n",
       "      <td>0.995233</td>\n",
       "      <td>0.837115</td>\n",
       "      <td>0.158118</td>\n",
       "    </tr>\n",
       "    <tr>\n",
       "      <th>1</th>\n",
       "      <td>Linear Regression</td>\n",
       "      <td>7.127761</td>\n",
       "      <td>0.814293</td>\n",
       "      <td>0.792959</td>\n",
       "      <td>0.021335</td>\n",
       "    </tr>\n",
       "    <tr>\n",
       "      <th>2</th>\n",
       "      <td>Ridge</td>\n",
       "      <td>7.133896</td>\n",
       "      <td>0.813659</td>\n",
       "      <td>0.792602</td>\n",
       "      <td>0.021057</td>\n",
       "    </tr>\n",
       "    <tr>\n",
       "      <th>5</th>\n",
       "      <td>SVR</td>\n",
       "      <td>7.957428</td>\n",
       "      <td>0.778819</td>\n",
       "      <td>0.741955</td>\n",
       "      <td>0.036864</td>\n",
       "    </tr>\n",
       "    <tr>\n",
       "      <th>3</th>\n",
       "      <td>Lasso</td>\n",
       "      <td>10.171401</td>\n",
       "      <td>0.583986</td>\n",
       "      <td>0.578389</td>\n",
       "      <td>0.005597</td>\n",
       "    </tr>\n",
       "  </tbody>\n",
       "</table>\n",
       "</div>"
      ],
      "text/plain": [
       "           Algorithm       RMSE  train_R2   test_R2   diff_R2\n",
       "9         XGBoost_hp   4.009815  0.974111  0.934476  0.039635\n",
       "7            XGBoost   4.173695  0.994830  0.929011  0.065819\n",
       "6      Random Forest   4.746714  0.981075  0.908180  0.072895\n",
       "8   Random_Forest_hp   4.860422  0.981592  0.903728  0.077864\n",
       "4      Decision Tree   6.322161  0.995233  0.837115  0.158118\n",
       "1  Linear Regression   7.127761  0.814293  0.792959  0.021335\n",
       "2              Ridge   7.133896  0.813659  0.792602  0.021057\n",
       "5                SVR   7.957428  0.778819  0.741955  0.036864\n",
       "3              Lasso  10.171401  0.583986  0.578389  0.005597"
      ]
     },
     "execution_count": 137,
     "metadata": {},
     "output_type": "execute_result"
    }
   ],
   "source": [
    "results.sort_values(by=['test_R2', 'train_R2','diff_R2',\"RMSE\"],\n",
    "                    ascending=[False, False, True, True])"
   ]
  },
  {
   "cell_type": "markdown",
   "id": "769d5af3",
   "metadata": {},
   "source": [
    "FutureWarning: Criterion 'mae' was deprecated in v1.0 and will be removed in version 1.2. Use `criterion='absolute_error'` which is equivalent."
   ]
  },
  {
   "cell_type": "code",
   "execution_count": null,
   "id": "f5310d67",
   "metadata": {},
   "outputs": [],
   "source": []
  }
 ],
 "metadata": {
  "kernelspec": {
   "display_name": "Python 3 (ipykernel)",
   "language": "python",
   "name": "python3"
  },
  "language_info": {
   "codemirror_mode": {
    "name": "ipython",
    "version": 3
   },
   "file_extension": ".py",
   "mimetype": "text/x-python",
   "name": "python",
   "nbconvert_exporter": "python",
   "pygments_lexer": "ipython3",
   "version": "3.7.16"
  }
 },
 "nbformat": 4,
 "nbformat_minor": 5
}
