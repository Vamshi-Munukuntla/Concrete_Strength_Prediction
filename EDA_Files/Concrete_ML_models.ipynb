{
 "cells": [
  {
   "cell_type": "code",
   "execution_count": 1,
   "id": "b45230d9",
   "metadata": {},
   "outputs": [],
   "source": [
    "import numpy as np\n",
    "import pandas as pd\n",
    "import matplotlib.pyplot as plt\n",
    "import seaborn as sns\n",
    "\n",
    "from sklearn.preprocessing import PowerTransformer\n",
    "from sklearn.pipeline import Pipeline"
   ]
  },
  {
   "cell_type": "code",
   "execution_count": 2,
   "id": "50477346",
   "metadata": {},
   "outputs": [],
   "source": [
    "# the regression models\n",
    "\n",
    "from sklearn.linear_model import LinearRegression, Ridge, Lasso\n",
    "from sklearn.neighbors import KNeighborsRegressor\n",
    "from sklearn.svm import SVR\n",
    "from sklearn.tree import DecisionTreeRegressor\n",
    "from sklearn.ensemble import BaggingRegressor, ExtraTreesRegressor\n",
    "from sklearn.ensemble import RandomForestRegressor, AdaBoostRegressor\n",
    "from sklearn.ensemble import GradientBoostingRegressor\n",
    "from xgboost import XGBRegressor\n",
    "from catboost import CatBoostRegressor\n",
    "from lightgbm import LGBMRegressor"
   ]
  },
  {
   "cell_type": "code",
   "execution_count": 3,
   "id": "46ae27a6",
   "metadata": {},
   "outputs": [],
   "source": [
    "# metrics\n",
    "from sklearn import metrics\n",
    "\n",
    "# feature selection models\n",
    "from sklearn.feature_selection import SelectFromModel"
   ]
  },
  {
   "cell_type": "code",
   "execution_count": 4,
   "id": "8d75ebbc",
   "metadata": {},
   "outputs": [],
   "source": [
    "from sklearn import set_config\n",
    "set_config(display='diagram')"
   ]
  },
  {
   "cell_type": "code",
   "execution_count": 5,
   "id": "8d751279",
   "metadata": {},
   "outputs": [
    {
     "data": {
      "text/html": [
       "<div>\n",
       "<style scoped>\n",
       "    .dataframe tbody tr th:only-of-type {\n",
       "        vertical-align: middle;\n",
       "    }\n",
       "\n",
       "    .dataframe tbody tr th {\n",
       "        vertical-align: top;\n",
       "    }\n",
       "\n",
       "    .dataframe thead th {\n",
       "        text-align: right;\n",
       "    }\n",
       "</style>\n",
       "<table border=\"1\" class=\"dataframe\">\n",
       "  <thead>\n",
       "    <tr style=\"text-align: right;\">\n",
       "      <th></th>\n",
       "      <th>Cement</th>\n",
       "      <th>Furnace_Slag</th>\n",
       "      <th>Fly_Ash</th>\n",
       "      <th>Water</th>\n",
       "      <th>Superplasticizer</th>\n",
       "      <th>Coarse_Aggregate</th>\n",
       "      <th>Fine_Aggregate</th>\n",
       "      <th>Age</th>\n",
       "      <th>Compressive_Strength</th>\n",
       "    </tr>\n",
       "  </thead>\n",
       "  <tbody>\n",
       "    <tr>\n",
       "      <th>0</th>\n",
       "      <td>540.0</td>\n",
       "      <td>0.0</td>\n",
       "      <td>0.0</td>\n",
       "      <td>162.0</td>\n",
       "      <td>2.5</td>\n",
       "      <td>1040.0</td>\n",
       "      <td>676.0</td>\n",
       "      <td>28.0</td>\n",
       "      <td>79.99</td>\n",
       "    </tr>\n",
       "    <tr>\n",
       "      <th>1</th>\n",
       "      <td>540.0</td>\n",
       "      <td>0.0</td>\n",
       "      <td>0.0</td>\n",
       "      <td>162.0</td>\n",
       "      <td>2.5</td>\n",
       "      <td>1055.0</td>\n",
       "      <td>676.0</td>\n",
       "      <td>28.0</td>\n",
       "      <td>61.89</td>\n",
       "    </tr>\n",
       "    <tr>\n",
       "      <th>2</th>\n",
       "      <td>332.5</td>\n",
       "      <td>142.5</td>\n",
       "      <td>0.0</td>\n",
       "      <td>228.0</td>\n",
       "      <td>0.0</td>\n",
       "      <td>932.0</td>\n",
       "      <td>594.0</td>\n",
       "      <td>120.0</td>\n",
       "      <td>40.27</td>\n",
       "    </tr>\n",
       "    <tr>\n",
       "      <th>3</th>\n",
       "      <td>332.5</td>\n",
       "      <td>142.5</td>\n",
       "      <td>0.0</td>\n",
       "      <td>228.0</td>\n",
       "      <td>0.0</td>\n",
       "      <td>932.0</td>\n",
       "      <td>594.0</td>\n",
       "      <td>120.0</td>\n",
       "      <td>41.05</td>\n",
       "    </tr>\n",
       "    <tr>\n",
       "      <th>4</th>\n",
       "      <td>198.6</td>\n",
       "      <td>132.4</td>\n",
       "      <td>0.0</td>\n",
       "      <td>192.0</td>\n",
       "      <td>0.0</td>\n",
       "      <td>978.4</td>\n",
       "      <td>825.5</td>\n",
       "      <td>120.0</td>\n",
       "      <td>44.30</td>\n",
       "    </tr>\n",
       "  </tbody>\n",
       "</table>\n",
       "</div>"
      ],
      "text/plain": [
       "   Cement  Furnace_Slag  Fly_Ash  Water  Superplasticizer  Coarse_Aggregate  \\\n",
       "0   540.0           0.0      0.0  162.0               2.5            1040.0   \n",
       "1   540.0           0.0      0.0  162.0               2.5            1055.0   \n",
       "2   332.5         142.5      0.0  228.0               0.0             932.0   \n",
       "3   332.5         142.5      0.0  228.0               0.0             932.0   \n",
       "4   198.6         132.4      0.0  192.0               0.0             978.4   \n",
       "\n",
       "   Fine_Aggregate    Age  Compressive_Strength  \n",
       "0           676.0   28.0                 79.99  \n",
       "1           676.0   28.0                 61.89  \n",
       "2           594.0  120.0                 40.27  \n",
       "3           594.0  120.0                 41.05  \n",
       "4           825.5  120.0                 44.30  "
      ]
     },
     "execution_count": 5,
     "metadata": {},
     "output_type": "execute_result"
    }
   ],
   "source": [
    "df = pd.read_csv(\"Concrete_without_Outliers.csv\")\n",
    "df.head()"
   ]
  },
  {
   "cell_type": "code",
   "execution_count": 6,
   "id": "2b04db91",
   "metadata": {},
   "outputs": [],
   "source": [
    "data = df.copy()"
   ]
  },
  {
   "cell_type": "code",
   "execution_count": 7,
   "id": "11592aeb",
   "metadata": {},
   "outputs": [
    {
     "data": {
      "application/javascript": [
       "\n",
       "        if (window._pyforest_update_imports_cell) { window._pyforest_update_imports_cell('from sklearn.model_selection import train_test_split'); }\n",
       "    "
      ],
      "text/plain": [
       "<IPython.core.display.Javascript object>"
      ]
     },
     "metadata": {},
     "output_type": "display_data"
    },
    {
     "name": "stdout",
     "output_type": "stream",
     "text": [
      "X_train shape: (703, 8)\n",
      "X_test shape: (302, 8)\n",
      "y_train shape: (703,)\n",
      "y_test shape: (302,)\n"
     ]
    }
   ],
   "source": [
    "target  = 'Compressive_Strength'\n",
    "X = data.drop(labels=[target], axis=1)\n",
    "y = data[target]\n",
    "\n",
    "X_train, X_test, y_train, y_test = train_test_split(\n",
    "    X, y, \n",
    "    test_size=0.3, \n",
    "    random_state=1\n",
    ")\n",
    "\n",
    "print(\"X_train shape:\", X_train.shape)\n",
    "print(\"X_test shape:\", X_test.shape)\n",
    "print(\"y_train shape:\", y_train.shape)\n",
    "print(\"y_test shape:\", y_test.shape)"
   ]
  },
  {
   "cell_type": "code",
   "execution_count": 18,
   "id": "7dc0a041",
   "metadata": {},
   "outputs": [],
   "source": [
    "def train_test_model(model, method, of_type, index, scale):\n",
    "    \n",
    "    print(model)\n",
    "    # define pipeline process\n",
    "    if scale == 'yes':\n",
    "        pipe = Pipeline([ \n",
    "            ('yeo-johnson', PowerTransformer()), \n",
    "            ('model', model)       \n",
    "        ])\n",
    "    elif scale == 'no':\n",
    "        pipe = Pipeline([\n",
    "            ('yeo-johnson', PowerTransformer(standardize=False),\n",
    "            ('model', model))\n",
    "        ])\n",
    "    \n",
    "    # fit the pipeline\n",
    "    pipe.fit(X_train, y_train)\n",
    "    \n",
    "    # predict\n",
    "    X_train_preds = pipe.predict(X_train)\n",
    "    X_test_preds = pipe.predict(X_test)\n",
    "    \n",
    "    # model evaluation\n",
    "    train_mse = metrics.mean_squared_error(y_train, X_train_preds)\n",
    "    train_rmse = np.sqrt(train_mse)\n",
    "    train_r2 = metrics.r2_score(y_train, X_train_preds)\n",
    "    \n",
    "    test_mse = metrics.mean_squared_error(y_test, X_test_preds)\n",
    "    test_rmse = np.sqrt(test_mse)\n",
    "    test_r2 = metrics.r2_score(y_test, X_test_preds)\n",
    "    \n",
    "    if of_type == 'coef':\n",
    "        # Intercept and Coefficients\n",
    "        print(f'The intercept for our model is {model.intercept_}')\n",
    "        \n",
    "        for idx, feature in enumerate(X_train.columns):\n",
    "            print(f\"The Coefficient for {feature} is {model.coef_.ravel()[idx]}\")\n",
    "        \n",
    "        # Feature Importance Plots\n",
    "        fig, ax = plt.subplots(figsize=(13,12))\n",
    "        coef = pd.DataFrame(np.sort(model.coef_)[::-1].ravel())\n",
    "        coef['feat'] = X_train.columns\n",
    "        sns.barplot(x=coef['feat'], y=coef[0], palette='jet_r', linewidth=2, ax=ax)\n",
    "        ax.set_xlabel('coefficients')\n",
    "        ax.set_ylabel('features')\n",
    "        fig.suptitle(f\"{method} FEATURE IMPORTANCES\")\n",
    "    \n",
    "    elif of_type == 'feat':\n",
    "        fig, ax = plt.subplots(figsize=(13,12))\n",
    "        coef = pd.DataFrame(np.sort(model.feature)[::-1].ravel())\n",
    "        coef['feat'] = X_train.columns\n",
    "        sns.barplot(x=coef['feat'], y=coef[0], palette='jet_r', linewidth=2, ax=ax)\n",
    "        ax.set_xlabel('coefficients')\n",
    "        ax.set_ylabel('features')\n",
    "        fig.suptitle(f\"{method} FEATURE IMPORTANCES\")\n",
    "\n",
    "    results_df = pd.DataFrame({\n",
    "        'Method':method,\n",
    "        \"train_rmse\":train_rmse,\n",
    "        \"train_r2\":train_r2,\n",
    "        \"test_rmse\":test_rmse,\n",
    "        \"test_r2\":test_r2\n",
    "    }, index=[index])\n",
    "    return results_df"
   ]
  },
  {
   "cell_type": "markdown",
   "id": "db6c0109",
   "metadata": {},
   "source": [
    "## Linear Regression"
   ]
  },
  {
   "cell_type": "code",
   "execution_count": 19,
   "id": "65bc471a",
   "metadata": {},
   "outputs": [],
   "source": [
    "lr = LinearRegression()"
   ]
  },
  {
   "cell_type": "code",
   "execution_count": 20,
   "id": "c26fd69c",
   "metadata": {},
   "outputs": [
    {
     "name": "stdout",
     "output_type": "stream",
     "text": [
      "LinearRegression()\n"
     ]
    }
   ],
   "source": [
    "results_df = train_test_model(lr, 'LinearRegression', 'none',1, 'yes')"
   ]
  },
  {
   "cell_type": "code",
   "execution_count": 21,
   "id": "2a750382",
   "metadata": {},
   "outputs": [
    {
     "data": {
      "text/html": [
       "<div>\n",
       "<style scoped>\n",
       "    .dataframe tbody tr th:only-of-type {\n",
       "        vertical-align: middle;\n",
       "    }\n",
       "\n",
       "    .dataframe tbody tr th {\n",
       "        vertical-align: top;\n",
       "    }\n",
       "\n",
       "    .dataframe thead th {\n",
       "        text-align: right;\n",
       "    }\n",
       "</style>\n",
       "<table border=\"1\" class=\"dataframe\">\n",
       "  <thead>\n",
       "    <tr style=\"text-align: right;\">\n",
       "      <th></th>\n",
       "      <th>Method</th>\n",
       "      <th>train_rmse</th>\n",
       "      <th>train_r2</th>\n",
       "      <th>test_rmse</th>\n",
       "      <th>test_r2</th>\n",
       "    </tr>\n",
       "  </thead>\n",
       "  <tbody>\n",
       "    <tr>\n",
       "      <th>1</th>\n",
       "      <td>LinearRegression</td>\n",
       "      <td>7.024448</td>\n",
       "      <td>0.812447</td>\n",
       "      <td>7.329756</td>\n",
       "      <td>0.800443</td>\n",
       "    </tr>\n",
       "  </tbody>\n",
       "</table>\n",
       "</div>"
      ],
      "text/plain": [
       "             Method  train_rmse  train_r2  test_rmse   test_r2\n",
       "1  LinearRegression    7.024448  0.812447   7.329756  0.800443"
      ]
     },
     "execution_count": 21,
     "metadata": {},
     "output_type": "execute_result"
    }
   ],
   "source": [
    "results_df"
   ]
  },
  {
   "cell_type": "markdown",
   "id": "4224553a",
   "metadata": {},
   "source": [
    "## Ridge Regression"
   ]
  },
  {
   "cell_type": "code",
   "execution_count": 22,
   "id": "343e53d5",
   "metadata": {},
   "outputs": [
    {
     "name": "stdout",
     "output_type": "stream",
     "text": [
      "Ridge(random_state=1)\n",
      "The intercept for our model is 35.24401137980086\n",
      "The Coefficient for Cement is 8.780059494564444\n",
      "The Coefficient for Furnace_Slag is 4.9245537855198735\n",
      "The Coefficient for Fly_Ash is 0.9056169110359562\n",
      "The Coefficient for Water is -4.912308112430893\n",
      "The Coefficient for Superplasticizer is 1.6445702370959043\n",
      "The Coefficient for Coarse_Aggregate is -0.6411853776625848\n",
      "The Coefficient for Fine_Aggregate is -2.096027312520767\n",
      "The Coefficient for Age is 9.623765316601771\n"
     ]
    },
    {
     "data": {
      "image/png": "[encoded data removed]",
      "text/plain": [
       "<Figure size 1300x1200 with 1 Axes>"
      ]
     },
     "metadata": {},
     "output_type": "display_data"
    }
   ],
   "source": [
    "rr = Ridge(random_state=1)\n",
    "\n",
    "ridge_results_df = train_test_model(rr, 'Ridge', 'coef', 2, 'yes')"
   ]
  },
  {
   "cell_type": "code",
   "execution_count": 23,
   "id": "a6fb92cd",
   "metadata": {},
   "outputs": [],
   "source": [
    "results_df = pd.concat([results_df,ridge_results_df])"
   ]
  },
  {
   "cell_type": "code",
   "execution_count": 24,
   "id": "0f9a3427",
   "metadata": {},
   "outputs": [
    {
     "data": {
      "text/html": [
       "<div>\n",
       "<style scoped>\n",
       "    .dataframe tbody tr th:only-of-type {\n",
       "        vertical-align: middle;\n",
       "    }\n",
       "\n",
       "    .dataframe tbody tr th {\n",
       "        vertical-align: top;\n",
       "    }\n",
       "\n",
       "    .dataframe thead th {\n",
       "        text-align: right;\n",
       "    }\n",
       "</style>\n",
       "<table border=\"1\" class=\"dataframe\">\n",
       "  <thead>\n",
       "    <tr style=\"text-align: right;\">\n",
       "      <th></th>\n",
       "      <th>Method</th>\n",
       "      <th>train_rmse</th>\n",
       "      <th>train_r2</th>\n",
       "      <th>test_rmse</th>\n",
       "      <th>test_r2</th>\n",
       "    </tr>\n",
       "  </thead>\n",
       "  <tbody>\n",
       "    <tr>\n",
       "      <th>1</th>\n",
       "      <td>LinearRegression</td>\n",
       "      <td>7.024448</td>\n",
       "      <td>0.812447</td>\n",
       "      <td>7.329756</td>\n",
       "      <td>0.800443</td>\n",
       "    </tr>\n",
       "    <tr>\n",
       "      <th>2</th>\n",
       "      <td>Ridge</td>\n",
       "      <td>7.024504</td>\n",
       "      <td>0.812444</td>\n",
       "      <td>7.330135</td>\n",
       "      <td>0.800422</td>\n",
       "    </tr>\n",
       "  </tbody>\n",
       "</table>\n",
       "</div>"
      ],
      "text/plain": [
       "             Method  train_rmse  train_r2  test_rmse   test_r2\n",
       "1  LinearRegression    7.024448  0.812447   7.329756  0.800443\n",
       "2             Ridge    7.024504  0.812444   7.330135  0.800422"
      ]
     },
     "execution_count": 24,
     "metadata": {},
     "output_type": "execute_result"
    }
   ],
   "source": [
    "results_df"
   ]
  },
  {
   "cell_type": "markdown",
   "id": "36e022a6",
   "metadata": {},
   "source": [
    "## Lasso"
   ]
  },
  {
   "cell_type": "code",
   "execution_count": 25,
   "id": "eedb0872",
   "metadata": {},
   "outputs": [
    {
     "name": "stdout",
     "output_type": "stream",
     "text": [
      "Lasso(random_state=1)\n",
      "The intercept for our model is 35.24401137980086\n",
      "The Coefficient for Cement is 7.625069874638087\n",
      "The Coefficient for Furnace_Slag is 3.7625266124565044\n",
      "The Coefficient for Fly_Ash is 0.0\n",
      "The Coefficient for Water is -2.9656941464303257\n",
      "The Coefficient for Superplasticizer is 2.492510145457824\n",
      "The Coefficient for Coarse_Aggregate is -0.0\n",
      "The Coefficient for Fine_Aggregate is -0.8230048292667232\n",
      "The Coefficient for Age is 8.565120856869747\n"
     ]
    },
    {
     "data": {
      "image/png": "[encoded data removed]",
      "text/plain": [
       "<Figure size 1300x1200 with 1 Axes>"
      ]
     },
     "metadata": {},
     "output_type": "display_data"
    }
   ],
   "source": [
    "lasso = Lasso(random_state=1)\n",
    "\n",
    "lasso_results_df = train_test_model(lasso, 'Lasso', 'coef', 3, 'yes')"
   ]
  },
  {
   "cell_type": "code",
   "execution_count": 16,
   "id": "39a5231c",
   "metadata": {},
   "outputs": [
    {
     "data": {
      "text/html": [
       "<div>\n",
       "<style scoped>\n",
       "    .dataframe tbody tr th:only-of-type {\n",
       "        vertical-align: middle;\n",
       "    }\n",
       "\n",
       "    .dataframe tbody tr th {\n",
       "        vertical-align: top;\n",
       "    }\n",
       "\n",
       "    .dataframe thead th {\n",
       "        text-align: right;\n",
       "    }\n",
       "</style>\n",
       "<table border=\"1\" class=\"dataframe\">\n",
       "  <thead>\n",
       "    <tr style=\"text-align: right;\">\n",
       "      <th></th>\n",
       "      <th>Method</th>\n",
       "      <th>train_rmse</th>\n",
       "      <th>train_r2</th>\n",
       "      <th>test_rmse</th>\n",
       "      <th>test_r2</th>\n",
       "    </tr>\n",
       "  </thead>\n",
       "  <tbody>\n",
       "    <tr>\n",
       "      <th>1</th>\n",
       "      <td>LinearRegression</td>\n",
       "      <td>7.024448</td>\n",
       "      <td>0.812447</td>\n",
       "      <td>7.329756</td>\n",
       "      <td>0.800443</td>\n",
       "    </tr>\n",
       "    <tr>\n",
       "      <th>2</th>\n",
       "      <td>Ridge</td>\n",
       "      <td>7.024504</td>\n",
       "      <td>0.812444</td>\n",
       "      <td>7.330135</td>\n",
       "      <td>0.800422</td>\n",
       "    </tr>\n",
       "    <tr>\n",
       "      <th>3</th>\n",
       "      <td>Lasso</td>\n",
       "      <td>7.459405</td>\n",
       "      <td>0.788501</td>\n",
       "      <td>7.708747</td>\n",
       "      <td>0.779273</td>\n",
       "    </tr>\n",
       "  </tbody>\n",
       "</table>\n",
       "</div>"
      ],
      "text/plain": [
       "             Method  train_rmse  train_r2  test_rmse   test_r2\n",
       "1  LinearRegression    7.024448  0.812447   7.329756  0.800443\n",
       "2             Ridge    7.024504  0.812444   7.330135  0.800422\n",
       "3             Lasso    7.459405  0.788501   7.708747  0.779273"
      ]
     },
     "execution_count": 16,
     "metadata": {},
     "output_type": "execute_result"
    }
   ],
   "source": [
    "results_df = pd.concat([results_df, lasso_results_df])\n",
    "results_df"
   ]
  },
  {
   "cell_type": "markdown",
   "id": "cfd0ff69",
   "metadata": {},
   "source": [
    "## Polynomical Linear Regression"
   ]
  },
  {
   "cell_type": "code",
   "execution_count": null,
   "id": "30f5ac73",
   "metadata": {},
   "outputs": [],
   "source": []
  },
  {
   "cell_type": "code",
   "execution_count": null,
   "id": "b2652394",
   "metadata": {},
   "outputs": [],
   "source": []
  },
  {
   "cell_type": "code",
   "execution_count": null,
   "id": "b3fd17c0",
   "metadata": {},
   "outputs": [],
   "source": []
  },
  {
   "cell_type": "code",
   "execution_count": null,
   "id": "b759f56e",
   "metadata": {},
   "outputs": [],
   "source": []
  },
  {
   "cell_type": "code",
   "execution_count": null,
   "id": "5e84009f",
   "metadata": {},
   "outputs": [],
   "source": []
  },
  {
   "cell_type": "code",
   "execution_count": null,
   "id": "e025bc53",
   "metadata": {},
   "outputs": [],
   "source": []
  },
  {
   "cell_type": "code",
   "execution_count": null,
   "id": "6059fa57",
   "metadata": {},
   "outputs": [],
   "source": []
  },
  {
   "cell_type": "code",
   "execution_count": null,
   "id": "ed2a94a1",
   "metadata": {},
   "outputs": [],
   "source": []
  },
  {
   "cell_type": "code",
   "execution_count": null,
   "id": "934937fc",
   "metadata": {},
   "outputs": [],
   "source": []
  }
 ],
 "metadata": {
  "kernelspec": {
   "display_name": "Python 3 (ipykernel)",
   "language": "python",
   "name": "python3"
  },
  "language_info": {
   "codemirror_mode": {
    "name": "ipython",
    "version": 3
   },
   "file_extension": ".py",
   "mimetype": "text/x-python",
   "name": "python",
   "nbconvert_exporter": "python",
   "pygments_lexer": "ipython3",
   "version": "3.7.16"
  }
 },
 "nbformat": 4,
 "nbformat_minor": 5
}
